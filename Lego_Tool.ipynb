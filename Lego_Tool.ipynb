{
 "cells": [
  {
   "cell_type": "code",
   "execution_count": 1,
   "metadata": {
    "colab": {
     "base_uri": "https://localhost:8080/"
    },
    "id": "yFoUzEUVBzUQ",
    "outputId": "b4c982c6-9390-4a28-dea6-35e15fc8ccd3"
   },
   "outputs": [
    {
     "name": "stderr",
     "output_type": "stream",
     "text": [
      "WARNING: Ignoring invalid distribution -ip (d:\\softwares\\python\\lib\\site-packages)\n",
      "WARNING: Ignoring invalid distribution -ip (d:\\softwares\\python\\lib\\site-packages)\n",
      "WARNING: Ignoring invalid distribution -ip (d:\\softwares\\python\\lib\\site-packages)\n",
      "    WARNING: Ignoring invalid distribution -ip (d:\\softwares\\python\\lib\\site-packages)\n",
      "    WARNING: Ignoring invalid distribution -ip (d:\\softwares\\python\\lib\\site-packages)\n",
      "WARNING: Ignoring invalid distribution -ip (d:\\softwares\\python\\lib\\site-packages)\n",
      "WARNING: Ignoring invalid distribution -ip (d:\\softwares\\python\\lib\\site-packages)\n",
      "WARNING: Ignoring invalid distribution -ip (d:\\softwares\\python\\lib\\site-packages)\n",
      "WARNING: Ignoring invalid distribution -ip (d:\\softwares\\python\\lib\\site-packages)\n",
      "WARNING: Ignoring invalid distribution -ip (d:\\softwares\\python\\lib\\site-packages)\n",
      "WARNING: Ignoring invalid distribution -ip (d:\\softwares\\python\\lib\\site-packages)\n",
      "WARNING: Ignoring invalid distribution -ip (d:\\softwares\\python\\lib\\site-packages)\n",
      "WARNING: Ignoring invalid distribution -ip (d:\\softwares\\python\\lib\\site-packages)\n",
      "WARNING: Ignoring invalid distribution -ip (d:\\softwares\\python\\lib\\site-packages)\n",
      "WARNING: Ignoring invalid distribution -ip (d:\\softwares\\python\\lib\\site-packages)\n",
      "WARNING: Ignoring invalid distribution -ip (d:\\softwares\\python\\lib\\site-packages)\n",
      "WARNING: Ignoring invalid distribution -ip (d:\\softwares\\python\\lib\\site-packages)\n",
      "WARNING: Ignoring invalid distribution -ip (d:\\softwares\\python\\lib\\site-packages)\n",
      "WARNING: Ignoring invalid distribution -ip (d:\\softwares\\python\\lib\\site-packages)\n",
      "WARNING: Ignoring invalid distribution -ip (d:\\softwares\\python\\lib\\site-packages)\n",
      "WARNING: Ignoring invalid distribution -ip (d:\\softwares\\python\\lib\\site-packages)\n",
      "WARNING: Ignoring invalid distribution -ip (d:\\softwares\\python\\lib\\site-packages)\n",
      "WARNING: Ignoring invalid distribution -ip (d:\\softwares\\python\\lib\\site-packages)\n",
      "WARNING: Ignoring invalid distribution -ip (d:\\softwares\\python\\lib\\site-packages)\n",
      "WARNING: Ignoring invalid distribution -ip (d:\\softwares\\python\\lib\\site-packages)\n",
      "WARNING: Ignoring invalid distribution -ip (d:\\softwares\\python\\lib\\site-packages)\n",
      "WARNING: Ignoring invalid distribution -ip (d:\\softwares\\python\\lib\\site-packages)\n",
      "WARNING: Ignoring invalid distribution -ip (d:\\softwares\\python\\lib\\site-packages)\n",
      "WARNING: Ignoring invalid distribution -ip (d:\\softwares\\python\\lib\\site-packages)\n",
      "WARNING: Ignoring invalid distribution -ip (d:\\softwares\\python\\lib\\site-packages)\n",
      "WARNING: Ignoring invalid distribution -ip (d:\\softwares\\python\\lib\\site-packages)\n",
      "WARNING: Ignoring invalid distribution -ip (d:\\softwares\\python\\lib\\site-packages)\n",
      "WARNING: Ignoring invalid distribution -ip (d:\\softwares\\python\\lib\\site-packages)\n",
      "WARNING: Ignoring invalid distribution -ip (d:\\softwares\\python\\lib\\site-packages)\n",
      "WARNING: Ignoring invalid distribution -ip (d:\\softwares\\python\\lib\\site-packages)\n",
      "WARNING: Ignoring invalid distribution -ip (d:\\softwares\\python\\lib\\site-packages)\n",
      "WARNING: Ignoring invalid distribution -ip (d:\\softwares\\python\\lib\\site-packages)\n",
      "WARNING: Ignoring invalid distribution -ip (d:\\softwares\\python\\lib\\site-packages)\n",
      "WARNING: Ignoring invalid distribution -ip (d:\\softwares\\python\\lib\\site-packages)\n",
      "WARNING: Ignoring invalid distribution -ip (d:\\softwares\\python\\lib\\site-packages)\n",
      "WARNING: Ignoring invalid distribution -ip (d:\\softwares\\python\\lib\\site-packages)\n",
      "WARNING: Ignoring invalid distribution -ip (d:\\softwares\\python\\lib\\site-packages)\n",
      "WARNING: Ignoring invalid distribution -ip (d:\\softwares\\python\\lib\\site-packages)\n",
      "WARNING: Ignoring invalid distribution -ip (d:\\softwares\\python\\lib\\site-packages)\n",
      "WARNING: You are using pip version 21.2.4; however, version 22.1 is available.\n",
      "You should consider upgrading via the 'd:\\softwares\\python\\python.exe -m pip install --upgrade pip' command.\n",
      "WARNING: Ignoring invalid distribution -ip (d:\\softwares\\python\\lib\\site-packages)\n",
      "WARNING: Ignoring invalid distribution -ip (d:\\softwares\\python\\lib\\site-packages)\n",
      "  ERROR: Command errored out with exit status 1:\n",
      "   command: 'd:\\softwares\\python\\python.exe' 'd:\\softwares\\python\\lib\\site-packages\\pip\\_vendor\\pep517\\in_process\\_in_process.py' build_wheel 'C:\\Users\\shree\\AppData\\Local\\Temp\\tmpqjtk948b'\n",
      "       cwd: C:\\Users\\shree\\AppData\\Local\\Temp\\pip-install-rndq593n\\pycocotools_a18058cfa127481a9bde9e9ca34c6b1f\n",
      "  Complete output (14 lines):\n",
      "  running bdist_wheel\n",
      "  running build\n",
      "  running build_py\n",
      "  creating build\n",
      "  creating build\\lib.win-amd64-cpython-37\n",
      "  creating build\\lib.win-amd64-cpython-37\\pycocotools\n",
      "  copying pycocotools\\coco.py -> build\\lib.win-amd64-cpython-37\\pycocotools\n",
      "  copying pycocotools\\cocoeval.py -> build\\lib.win-amd64-cpython-37\\pycocotools\n",
      "  copying pycocotools\\mask.py -> build\\lib.win-amd64-cpython-37\\pycocotools\n",
      "  copying pycocotools\\__init__.py -> build\\lib.win-amd64-cpython-37\\pycocotools\n",
      "  running build_ext\n",
      "  skipping 'pycocotools\\_mask.c' Cython extension (up-to-date)\n",
      "  building 'pycocotools._mask' extension\n",
      "  error: Microsoft Visual C++ 14.0 or greater is required. Get it with \"Microsoft C++ Build Tools\": https://visualstudio.microsoft.com/visual-cpp-build-tools/\n",
      "  ----------------------------------------\n",
      "  ERROR: Failed building wheel for pycocotools\n",
      "ERROR: Could not build wheels for pycocotools which use PEP 517 and cannot be installed directly\n",
      "WARNING: Ignoring invalid distribution -ip (d:\\softwares\\python\\lib\\site-packages)\n",
      "WARNING: Ignoring invalid distribution -ip (d:\\softwares\\python\\lib\\site-packages)\n",
      "WARNING: Ignoring invalid distribution -ip (d:\\softwares\\python\\lib\\site-packages)\n",
      "WARNING: You are using pip version 21.2.4; however, version 22.1 is available.\n",
      "You should consider upgrading via the 'd:\\softwares\\python\\python.exe -m pip install --upgrade pip' command.\n"
     ]
    },
    {
     "name": "stdout",
     "output_type": "stream",
     "text": [
      "Collecting random_user_agent\n",
      "  Downloading random_user_agent-1.0.1-py3-none-any.whl (8.2 MB)\n",
      "Installing collected packages: random-user-agent\n",
      "Successfully installed random-user-agent-1.0.1\n"
     ]
    },
    {
     "name": "stderr",
     "output_type": "stream",
     "text": [
      "WARNING: Ignoring invalid distribution -ip (d:\\softwares\\python\\lib\\site-packages)\n",
      "WARNING: Ignoring invalid distribution -ip (d:\\softwares\\python\\lib\\site-packages)\n",
      "WARNING: Ignoring invalid distribution -ip (d:\\softwares\\python\\lib\\site-packages)\n",
      "WARNING: Ignoring invalid distribution -ip (d:\\softwares\\python\\lib\\site-packages)\n",
      "WARNING: Ignoring invalid distribution -ip (d:\\softwares\\python\\lib\\site-packages)\n",
      "WARNING: Ignoring invalid distribution -ip (d:\\softwares\\python\\lib\\site-packages)\n",
      "WARNING: Ignoring invalid distribution -ip (d:\\softwares\\python\\lib\\site-packages)\n",
      "WARNING: You are using pip version 21.2.4; however, version 22.1 is available.\n",
      "You should consider upgrading via the 'd:\\softwares\\python\\python.exe -m pip install --upgrade pip' command.\n"
     ]
    },
    {
     "name": "stdout",
     "output_type": "stream",
     "text": [
      "Collecting transformers\n"
     ]
    },
    {
     "name": "stderr",
     "output_type": "stream",
     "text": [
      "WARNING: Ignoring invalid distribution -ip (d:\\softwares\\python\\lib\\site-packages)\n",
      "WARNING: Ignoring invalid distribution -ip (d:\\softwares\\python\\lib\\site-packages)\n",
      "WARNING: Ignoring invalid distribution -ip (d:\\softwares\\python\\lib\\site-packages)\n",
      "WARNING: Ignoring invalid distribution -ip (d:\\softwares\\python\\lib\\site-packages)\n",
      "WARNING: Ignoring invalid distribution -ip (d:\\softwares\\python\\lib\\site-packages)\n",
      "WARNING: Ignoring invalid distribution -ip (d:\\softwares\\python\\lib\\site-packages)\n",
      "WARNING: Ignoring invalid distribution -ip (d:\\softwares\\python\\lib\\site-packages)\n",
      "WARNING: Ignoring invalid distribution -ip (d:\\softwares\\python\\lib\\site-packages)\n",
      "WARNING: Ignoring invalid distribution -ip (d:\\softwares\\python\\lib\\site-packages)\n",
      "WARNING: Ignoring invalid distribution -ip (d:\\softwares\\python\\lib\\site-packages)\n",
      "WARNING: Ignoring invalid distribution -ip (d:\\softwares\\python\\lib\\site-packages)\n",
      "WARNING: Ignoring invalid distribution -ip (d:\\softwares\\python\\lib\\site-packages)\n",
      "WARNING: Ignoring invalid distribution -ip (d:\\softwares\\python\\lib\\site-packages)\n",
      "WARNING: Ignoring invalid distribution -ip (d:\\softwares\\python\\lib\\site-packages)\n",
      "WARNING: You are using pip version 21.2.4; however, version 22.1 is available.\n",
      "You should consider upgrading via the 'd:\\softwares\\python\\python.exe -m pip install --upgrade pip' command.\n"
     ]
    },
    {
     "name": "stdout",
     "output_type": "stream",
     "text": [
      "  Downloading transformers-4.19.1-py3-none-any.whl (4.2 MB)\n",
      "Collecting tokenizers!=0.11.3,<0.13,>=0.11.1\n",
      "  Downloading tokenizers-0.12.1-cp37-cp37m-win_amd64.whl (3.3 MB)\n",
      "Collecting huggingface-hub<1.0,>=0.1.0\n",
      "  Downloading huggingface_hub-0.6.0-py3-none-any.whl (84 kB)\n",
      "Collecting pyyaml>=5.1\n",
      "  Using cached PyYAML-6.0-cp37-cp37m-win_amd64.whl (153 kB)\n",
      "Requirement already satisfied: numpy>=1.17 in d:\\softwares\\python\\lib\\site-packages (from transformers) (1.21.6)\n",
      "Collecting filelock\n",
      "  Downloading filelock-3.7.0-py3-none-any.whl (10 kB)\n",
      "Collecting regex!=2019.12.17\n",
      "  Downloading regex-2022.4.24-cp37-cp37m-win_amd64.whl (261 kB)\n",
      "Requirement already satisfied: requests in d:\\softwares\\python\\lib\\site-packages (from transformers) (2.27.1)\n",
      "Collecting tqdm>=4.27\n",
      "  Using cached tqdm-4.64.0-py2.py3-none-any.whl (78 kB)\n",
      "Requirement already satisfied: importlib-metadata in d:\\softwares\\python\\lib\\site-packages (from transformers) (4.11.3)\n",
      "Collecting packaging>=20.0\n",
      "  Using cached packaging-21.3-py3-none-any.whl (40 kB)\n",
      "Requirement already satisfied: typing-extensions>=3.7.4.3 in d:\\softwares\\python\\lib\\site-packages (from huggingface-hub<1.0,>=0.1.0->transformers) (4.2.0)\n",
      "Requirement already satisfied: pyparsing!=3.0.5,>=2.0.2 in d:\\softwares\\python\\lib\\site-packages (from packaging>=20.0->transformers) (2.4.6)\n",
      "Requirement already satisfied: colorama in d:\\softwares\\python\\lib\\site-packages (from tqdm>=4.27->transformers) (0.4.3)\n",
      "Requirement already satisfied: zipp>=0.5 in d:\\softwares\\python\\lib\\site-packages (from importlib-metadata->transformers) (3.1.0)\n",
      "Requirement already satisfied: charset-normalizer~=2.0.0 in d:\\softwares\\python\\lib\\site-packages (from requests->transformers) (2.0.12)\n",
      "Requirement already satisfied: urllib3<1.27,>=1.21.1 in d:\\softwares\\python\\lib\\site-packages (from requests->transformers) (1.26.8)\n",
      "Requirement already satisfied: idna<4,>=2.5 in d:\\softwares\\python\\lib\\site-packages (from requests->transformers) (3.3)\n",
      "Requirement already satisfied: certifi>=2017.4.17 in d:\\softwares\\python\\lib\\site-packages (from requests->transformers) (2021.10.8)\n",
      "Installing collected packages: tqdm, pyyaml, packaging, filelock, tokenizers, regex, huggingface-hub, transformers\n",
      "Successfully installed filelock-3.7.0 huggingface-hub-0.6.0 packaging-21.3 pyyaml-6.0 regex-2022.4.24 tokenizers-0.12.1 tqdm-4.64.0 transformers-4.19.1\n",
      "Collecting sentencepiece\n",
      "  Using cached sentencepiece-0.1.96-cp37-cp37m-win_amd64.whl (1.1 MB)\n",
      "Installing collected packages: sentencepiece\n",
      "Successfully installed sentencepiece-0.1.96\n"
     ]
    },
    {
     "name": "stderr",
     "output_type": "stream",
     "text": [
      "WARNING: Ignoring invalid distribution -ip (d:\\softwares\\python\\lib\\site-packages)\n",
      "WARNING: Ignoring invalid distribution -ip (d:\\softwares\\python\\lib\\site-packages)\n",
      "WARNING: Ignoring invalid distribution -ip (d:\\softwares\\python\\lib\\site-packages)\n",
      "WARNING: Ignoring invalid distribution -ip (d:\\softwares\\python\\lib\\site-packages)\n",
      "WARNING: Ignoring invalid distribution -ip (d:\\softwares\\python\\lib\\site-packages)\n",
      "WARNING: Ignoring invalid distribution -ip (d:\\softwares\\python\\lib\\site-packages)\n",
      "WARNING: Ignoring invalid distribution -ip (d:\\softwares\\python\\lib\\site-packages)\n",
      "WARNING: You are using pip version 21.2.4; however, version 22.1 is available.\n",
      "You should consider upgrading via the 'd:\\softwares\\python\\python.exe -m pip install --upgrade pip' command.\n"
     ]
    },
    {
     "name": "stdout",
     "output_type": "stream",
     "text": [
      "Collecting googletrans==4.0.0-rc.1\n"
     ]
    },
    {
     "name": "stderr",
     "output_type": "stream",
     "text": [
      "WARNING: Ignoring invalid distribution -ip (d:\\softwares\\python\\lib\\site-packages)\n",
      "WARNING: Ignoring invalid distribution -ip (d:\\softwares\\python\\lib\\site-packages)\n",
      "WARNING: Ignoring invalid distribution -ip (d:\\softwares\\python\\lib\\site-packages)\n",
      "    WARNING: Ignoring invalid distribution -ip (d:\\softwares\\python\\lib\\site-packages)\n",
      "WARNING: Ignoring invalid distribution -ip (d:\\softwares\\python\\lib\\site-packages)\n",
      "WARNING: Ignoring invalid distribution -ip (d:\\softwares\\python\\lib\\site-packages)\n",
      "WARNING: Ignoring invalid distribution -ip (d:\\softwares\\python\\lib\\site-packages)\n",
      "WARNING: Ignoring invalid distribution -ip (d:\\softwares\\python\\lib\\site-packages)\n",
      "WARNING: Ignoring invalid distribution -ip (d:\\softwares\\python\\lib\\site-packages)\n",
      "WARNING: Ignoring invalid distribution -ip (d:\\softwares\\python\\lib\\site-packages)\n",
      "WARNING: Ignoring invalid distribution -ip (d:\\softwares\\python\\lib\\site-packages)\n",
      "WARNING: Ignoring invalid distribution -ip (d:\\softwares\\python\\lib\\site-packages)\n",
      "WARNING: Ignoring invalid distribution -ip (d:\\softwares\\python\\lib\\site-packages)\n",
      "WARNING: Ignoring invalid distribution -ip (d:\\softwares\\python\\lib\\site-packages)\n",
      "WARNING: Ignoring invalid distribution -ip (d:\\softwares\\python\\lib\\site-packages)\n",
      "WARNING: Ignoring invalid distribution -ip (d:\\softwares\\python\\lib\\site-packages)\n",
      "WARNING: Ignoring invalid distribution -ip (d:\\softwares\\python\\lib\\site-packages)\n",
      "WARNING: Ignoring invalid distribution -ip (d:\\softwares\\python\\lib\\site-packages)\n",
      "WARNING: Ignoring invalid distribution -ip (d:\\softwares\\python\\lib\\site-packages)\n",
      "WARNING: You are using pip version 21.2.4; however, version 22.1 is available.\n",
      "You should consider upgrading via the 'd:\\softwares\\python\\python.exe -m pip install --upgrade pip' command.\n"
     ]
    },
    {
     "name": "stdout",
     "output_type": "stream",
     "text": [
      "  Downloading googletrans-4.0.0rc1.tar.gz (20 kB)\n",
      "Collecting httpx==0.13.3\n",
      "  Downloading httpx-0.13.3-py3-none-any.whl (55 kB)\n",
      "Collecting sniffio\n",
      "  Downloading sniffio-1.2.0-py3-none-any.whl (10 kB)\n",
      "Collecting httpcore==0.9.*\n",
      "  Downloading httpcore-0.9.1-py3-none-any.whl (42 kB)\n",
      "Requirement already satisfied: certifi in d:\\softwares\\python\\lib\\site-packages (from httpx==0.13.3->googletrans==4.0.0-rc.1) (2021.10.8)\n",
      "Collecting chardet==3.*\n",
      "  Using cached chardet-3.0.4-py2.py3-none-any.whl (133 kB)\n",
      "Collecting idna==2.*\n",
      "  Downloading idna-2.10-py2.py3-none-any.whl (58 kB)\n",
      "Collecting rfc3986<2,>=1.3\n",
      "  Downloading rfc3986-1.5.0-py2.py3-none-any.whl (31 kB)\n",
      "Collecting hstspreload\n",
      "  Downloading hstspreload-2021.12.1-py3-none-any.whl (1.3 MB)\n",
      "Collecting h11<0.10,>=0.8\n",
      "  Downloading h11-0.9.0-py2.py3-none-any.whl (53 kB)\n",
      "Collecting h2==3.*\n",
      "  Downloading h2-3.2.0-py2.py3-none-any.whl (65 kB)\n",
      "Collecting hpack<4,>=3.0\n",
      "  Downloading hpack-3.0.0-py2.py3-none-any.whl (38 kB)\n",
      "Collecting hyperframe<6,>=5.2.0\n",
      "  Downloading hyperframe-5.2.0-py2.py3-none-any.whl (12 kB)\n",
      "Building wheels for collected packages: googletrans\n",
      "  Building wheel for googletrans (setup.py): started\n",
      "  Building wheel for googletrans (setup.py): finished with status 'done'\n",
      "  Created wheel for googletrans: filename=googletrans-4.0.0rc1-py3-none-any.whl size=17415 sha256=0ccd1c0d1bab9c2eacf8fe053459d838b0cf8a21341c8fd133b826a3e658179b\n",
      "  Stored in directory: c:\\users\\shree\\appdata\\local\\pip\\cache\\wheels\\43\\34\\00\\4fe71786ea6d12314b29037620c36d857e5d104ac2748bf82a\n",
      "Successfully built googletrans\n",
      "Installing collected packages: hyperframe, hpack, sniffio, h2, h11, rfc3986, idna, httpcore, hstspreload, chardet, httpx, googletrans\n",
      "  Attempting uninstall: idna\n",
      "    Found existing installation: idna 3.3\n",
      "    Uninstalling idna-3.3:\n",
      "      Successfully uninstalled idna-3.3\n",
      "Successfully installed chardet-3.0.4 googletrans-4.0.0rc1 h11-0.9.0 h2-3.2.0 hpack-3.0.0 hstspreload-2021.12.1 httpcore-0.9.1 httpx-0.13.3 hyperframe-5.2.0 idna-2.10 rfc3986-1.5.0 sniffio-1.2.0\n",
      "Collecting nltk\n",
      "  Downloading nltk-3.7-py3-none-any.whl (1.5 MB)"
     ]
    },
    {
     "name": "stderr",
     "output_type": "stream",
     "text": [
      "WARNING: Ignoring invalid distribution -ip (d:\\softwares\\python\\lib\\site-packages)\n",
      "WARNING: Ignoring invalid distribution -ip (d:\\softwares\\python\\lib\\site-packages)\n",
      "WARNING: Ignoring invalid distribution -ip (d:\\softwares\\python\\lib\\site-packages)\n",
      "WARNING: Ignoring invalid distribution -ip (d:\\softwares\\python\\lib\\site-packages)\n",
      "WARNING: Ignoring invalid distribution -ip (d:\\softwares\\python\\lib\\site-packages)\n",
      "WARNING: Ignoring invalid distribution -ip (d:\\softwares\\python\\lib\\site-packages)\n",
      "WARNING: Ignoring invalid distribution -ip (d:\\softwares\\python\\lib\\site-packages)\n",
      "WARNING: Ignoring invalid distribution -ip (d:\\softwares\\python\\lib\\site-packages)\n",
      "WARNING: Ignoring invalid distribution -ip (d:\\softwares\\python\\lib\\site-packages)\n",
      "WARNING: You are using pip version 21.2.4; however, version 22.1 is available.\n",
      "You should consider upgrading via the 'd:\\softwares\\python\\python.exe -m pip install --upgrade pip' command.\n"
     ]
    },
    {
     "name": "stdout",
     "output_type": "stream",
     "text": [
      "\n",
      "Collecting joblib\n",
      "  Using cached joblib-1.1.0-py2.py3-none-any.whl (306 kB)\n",
      "Requirement already satisfied: regex>=2021.8.3 in d:\\softwares\\python\\lib\\site-packages (from nltk) (2022.4.24)\n",
      "Requirement already satisfied: tqdm in d:\\softwares\\python\\lib\\site-packages (from nltk) (4.64.0)\n",
      "Collecting click\n",
      "  Using cached click-8.1.3-py3-none-any.whl (96 kB)\n",
      "Requirement already satisfied: importlib-metadata in d:\\softwares\\python\\lib\\site-packages (from click->nltk) (4.11.3)\n",
      "Requirement already satisfied: colorama in d:\\softwares\\python\\lib\\site-packages (from click->nltk) (0.4.3)\n",
      "Requirement already satisfied: typing-extensions>=3.6.4 in d:\\softwares\\python\\lib\\site-packages (from importlib-metadata->click->nltk) (4.2.0)\n",
      "Requirement already satisfied: zipp>=0.5 in d:\\softwares\\python\\lib\\site-packages (from importlib-metadata->click->nltk) (3.1.0)\n",
      "Installing collected packages: joblib, click, nltk\n",
      "Successfully installed click-8.1.3 joblib-1.1.0 nltk-3.7\n"
     ]
    }
   ],
   "source": [
    "# Modules required for ML model\n",
    "!pip install -q -U \"tensorflow-text==2.8.*\"\n",
    "!pip install -q tf-models-official==2.4.0\n",
    "!pip install random_user_agent\n",
    "!pip install transformers\n",
    "!pip install sentencepiece\n",
    "!pip install googletrans==4.0.0-rc.1\n",
    "!pip install nltk"
   ]
  },
  {
   "cell_type": "code",
   "execution_count": 2,
   "metadata": {
    "id": "ayia19vZCgJw"
   },
   "outputs": [
    {
     "ename": "ModuleNotFoundError",
     "evalue": "No module named 'official'",
     "output_type": "error",
     "traceback": [
      "\u001b[1;31m---------------------------------------------------------------------------\u001b[0m",
      "\u001b[1;31mModuleNotFoundError\u001b[0m                       Traceback (most recent call last)",
      "\u001b[1;32m<ipython-input-2-a83c285f060d>\u001b[0m in \u001b[0;36m<module>\u001b[1;34m\u001b[0m\n\u001b[0;32m      1\u001b[0m \u001b[1;31m# Load the required submodules\u001b[0m\u001b[1;33m\u001b[0m\u001b[1;33m\u001b[0m\u001b[1;33m\u001b[0m\u001b[0m\n\u001b[1;32m----> 2\u001b[1;33m \u001b[1;32mfrom\u001b[0m \u001b[0mofficial\u001b[0m\u001b[1;33m.\u001b[0m\u001b[0mmodeling\u001b[0m \u001b[1;32mimport\u001b[0m \u001b[0mtf_utils\u001b[0m\u001b[1;33m\u001b[0m\u001b[1;33m\u001b[0m\u001b[0m\n\u001b[0m\u001b[0;32m      3\u001b[0m \u001b[1;32mfrom\u001b[0m \u001b[0mofficial\u001b[0m \u001b[1;32mimport\u001b[0m \u001b[0mnlp\u001b[0m\u001b[1;33m\u001b[0m\u001b[1;33m\u001b[0m\u001b[0m\n\u001b[0;32m      4\u001b[0m \u001b[1;32mfrom\u001b[0m \u001b[0mofficial\u001b[0m\u001b[1;33m.\u001b[0m\u001b[0mnlp\u001b[0m \u001b[1;32mimport\u001b[0m \u001b[0mbert\u001b[0m\u001b[1;33m\u001b[0m\u001b[1;33m\u001b[0m\u001b[0m\n\u001b[0;32m      5\u001b[0m \u001b[1;32mimport\u001b[0m \u001b[0mofficial\u001b[0m\u001b[1;33m.\u001b[0m\u001b[0mnlp\u001b[0m\u001b[1;33m.\u001b[0m\u001b[0moptimization\u001b[0m\u001b[1;33m\u001b[0m\u001b[1;33m\u001b[0m\u001b[0m\n",
      "\u001b[1;31mModuleNotFoundError\u001b[0m: No module named 'official'"
     ]
    }
   ],
   "source": [
    "# Load the required submodules\n",
    "from official.modeling import tf_utils\n",
    "from official import nlp\n",
    "from official.nlp import bert\n",
    "import official.nlp.optimization\n",
    "import official.nlp.bert.bert_models\n",
    "import official.nlp.bert.configs\n",
    "import official.nlp.bert.run_classifier\n",
    "import official.nlp.bert.tokenization\n",
    "import official.nlp.data.classifier_data_lib\n",
    "import official.nlp.modeling.losses\n",
    "import official.nlp.modeling.models\n",
    "import official.nlp.modeling.networks\n",
    "from transformers import BatchEncoding\n",
    "from tensorflow.keras.layers import Input, Dropout, Dense\n",
    "from tensorflow.keras.models import Model\n",
    "from tensorflow.keras.optimizers import Adam\n",
    "from tensorflow.keras.callbacks import EarlyStopping\n",
    "from tensorflow.keras.initializers import TruncatedNormal\n",
    "from tensorflow.keras.losses import CategoricalCrossentropy\n",
    "from tensorflow.keras.metrics import CategoricalAccuracy\n",
    "from tensorflow.keras.utils import to_categorical\n",
    "import pandas as pd\n",
    "from sklearn.model_selection import train_test_split\n",
    "import tensorflow as tf\n",
    "import numpy as np\n",
    "import pickle\n",
    "from transformers import XLNetTokenizer, TFXLNetModel,XLNetConfig,XLNetTokenizerFast\n",
    "import pandas as pd\n",
    "from sklearn.model_selection import train_test_split\n",
    "import tensorflow as tf\n",
    "import numpy as np\n",
    "import pickle\n",
    "import pkg_resources\n",
    "import chardet \n",
    "from tqdm import tqdm\n",
    "import random\n",
    "from googletrans import Translator\n",
    "import time\n",
    "import ast\n",
    "from random_user_agent.params import SoftwareName, OperatingSystem\n",
    "import nltk\n",
    "import json"
   ]
  },
  {
   "cell_type": "code",
   "execution_count": null,
   "metadata": {
    "colab": {
     "base_uri": "https://localhost:8080/"
    },
    "id": "OY7OSV63Q2gT",
    "outputId": "6df40297-a6cf-4eed-cb77-1258851e0cc6"
   },
   "outputs": [],
   "source": [
    "nltk.download('stopwords')\n",
    "from nltk.corpus import stopwords\n",
    "stop = stopwords.words('english')"
   ]
  },
  {
   "cell_type": "code",
   "execution_count": null,
   "metadata": {
    "id": "EFgOV8CZFeWJ"
   },
   "outputs": [],
   "source": [
    "tf.config.experimental.list_physical_devices()\n",
    "!nvidia-smi\n",
    "for entry_point in pkg_resources.iter_entry_points('tensorboard_plugins'):\n",
    "    print(entry_point.dist)\n",
    "from google.colab import drive\n",
    "drive.mount('/content/drive')"
   ]
  },
  {
   "cell_type": "code",
   "execution_count": null,
   "metadata": {
    "id": "hvbFWsL_VtLE"
   },
   "outputs": [],
   "source": [
    "def Pre_Processing(Path):\n",
    "    df = pd.read_csv(Path) # Loading data\n",
    "    df = df=df.dropna()   # Dropping null values\n",
    "    df = df.drop_duplicates(subset=['Name'], keep='last') # Removing Duplicates\n",
    "    df = df.reset_index(drop=True)\n",
    "    # Converting Names to lower case and removing stop words (i,me,my...) \n",
    "    stop = stopwords.words('english')\n",
    "    df['Name']=df[\"Name\"].apply(lambda words: ' '.join(word.lower() for word in words.split() if word not in stop))\n",
    "    # Remove any whitespaces from the objects\n",
    "    df['Name']=df[\"Name\"].apply(lambda x: x.strip())\n",
    "    # Remove rows, where the label is present only ones (can't be split)\n",
    "    df = df.groupby('gtts_language').filter(lambda x : len(x) > 1)\n",
    "    return df"
   ]
  },
  {
   "cell_type": "code",
   "execution_count": null,
   "metadata": {
    "colab": {
     "base_uri": "https://localhost:8080/",
     "height": 206
    },
    "id": "8PF0_ZjQV-LK",
    "outputId": "de16b677-facd-44a2-d700-306dd4fe46af"
   },
   "outputs": [],
   "source": [
    "Input = Pre_Processing(r\"/content/drive/My Drive/Input_Data1.csv\")\n",
    "Input.head()"
   ]
  },
  {
   "cell_type": "code",
   "execution_count": null,
   "metadata": {
    "colab": {
     "base_uri": "https://localhost:8080/",
     "height": 206
    },
    "id": "oZIQ1BHgtf3V",
    "outputId": "48aab286-ce1b-493c-a275-3413d6a280cd"
   },
   "outputs": [],
   "source": [
    "data = Input[['Name', 'gtts_language','Language']]           # Making a temp copy \n",
    "data['Language_label'] = pd.Categorical(data['gtts_language']) # For categorization\n",
    "data['gtts_language'] = data['Language_label'].cat.codes  # Categorizing based on language\n",
    "data.head()"
   ]
  },
  {
   "cell_type": "code",
   "execution_count": null,
   "metadata": {
    "colab": {
     "base_uri": "https://localhost:8080/"
    },
    "id": "9GzvtLFASNIS",
    "outputId": "b1a14b9a-7650-4eb0-85ff-253cac2cf3a2"
   },
   "outputs": [],
   "source": [
    "# Creating a JSON file inorder to access the language input\n",
    "Output_Reference = data.drop_duplicates(subset=['gtts_language'], keep='last')         # Get the unique values for Language\n",
    "Output_Reference = Output_Reference.drop(['Name'],axis=1)                              # \n",
    "Output_Reference = Output_Reference.reset_index(drop=True)\n",
    "json_info = Output_Reference.to_json(orient='index')\n",
    "with open(\"/content/drive/My Drive/Language_Code.json\", \"w\") as outfile:\n",
    "    outfile.write(json_info)\n",
    "Output_Reference['Language_label'].unique"
   ]
  },
  {
   "cell_type": "code",
   "execution_count": null,
   "metadata": {
    "colab": {
     "base_uri": "https://localhost:8080/",
     "height": 206
    },
    "id": "L11eCy6UvneH",
    "outputId": "b363d21e-db89-4e5d-d3a7-edf84fb98f44"
   },
   "outputs": [],
   "source": [
    "# Since we have already categorized the language we will not require Language_label\n",
    "data=data.drop(['Language_label','Language'], axis = 1)\n",
    "# Split the data for train and test\n",
    "data, data_test = train_test_split(data, test_size = 0.3, stratify = data[['gtts_language']])\n",
    "final_data=data\n",
    "final_data.head()"
   ]
  },
  {
   "cell_type": "code",
   "execution_count": 52,
   "metadata": {
    "id": "CDwrKvYezr_h"
   },
   "outputs": [],
   "source": [
    "def create_model():\n",
    "    # Name of the xlnet model to use\n",
    "    model_name = 'xlnet-large-cased'\n",
    "    # Max length of tokens\n",
    "    max_length = 10\n",
    "    # Load transformers config and set output_hidden_states to False\n",
    "    config = XLNetConfig.from_pretrained(model_name)\n",
    "    config.output_hidden_states = False\n",
    "    # Load xlnet tokenizer\n",
    "    tokenizer = XLNetTokenizerFast.from_pretrained(pretrained_model_name_or_path = model_name, config = config)\n",
    "    # Load the Transformers xlnet model\n",
    "    transformer_model = TFXLNetModel.from_pretrained(model_name, config = config)\n",
    "    # Load the MainLayer\n",
    "    xlnet = transformer_model.layers[0]\n",
    "    # Build your model input\n",
    "    input_ids = Input(shape=(max_length,), name='input_ids', dtype='int32')\n",
    "    inputs = {'input_ids': input_ids}\n",
    "    # Load the Transformers xlnet model as a layer in a Keras model\n",
    "    xlnet_model = tf.reduce_mean(xlnet(inputs)[0], axis=1)\n",
    "    dropout = Dropout(0.1, name='pooled_output')\n",
    "    pooled_output = dropout(xlnet_model, training=False)\n",
    "    # Then build your model output\n",
    "    Lang = Dense(units=len(data.Language_label.value_counts()), kernel_initializer=TruncatedNormal(stddev=config.initializer_range), name='issue')(pooled_output)\n",
    "    outputs = {'gtts_language': Lang}\n",
    "    # And combine it all in a model object\n",
    "    model = Model(inputs=inputs, outputs=outputs, name='xlnet_model_MultiLabel_MultiClass')\n",
    "    # creates an optimizer with learning rate schedule\n",
    "    # Set an optimizer\n",
    "    optimizer = Adam(\n",
    "        learning_rate=5e-05,\n",
    "        epsilon=1e-08,\n",
    "        decay=0.01,\n",
    "        clipnorm=1.0)\n",
    "    # Set loss and metrics\n",
    "    loss = {'gtts_language': CategoricalCrossentropy(from_logits = True)}\n",
    "    metric = {'gtts_language': CategoricalAccuracy('accuracy')}\n",
    "    # Compile the model\n",
    "    model.compile(\n",
    "        optimizer = optimizer,\n",
    "        loss = loss, \n",
    "        metrics = metric)\n",
    "    # Ready output data for the model\n",
    "    y_language = to_categorical(data['gtts_language'])\n",
    "\n",
    "    # Tokenize the input (takes some time)\n",
    "    x = tokenizer(\n",
    "        text=data['Name'].to_list(),\n",
    "        add_special_tokens=True,\n",
    "        max_length=max_length,\n",
    "        truncation=True,\n",
    "        padding=True, \n",
    "        return_tensors='tf',\n",
    "        return_token_type_ids = False,\n",
    "        return_attention_mask = False,\n",
    "        verbose = True)\n",
    "    # Fit the model\n",
    "    history = model.fit(\n",
    "        x={'input_ids': x['input_ids']},\n",
    "        y={'gtts_language': y_language},\n",
    "        validation_split=0.2,\n",
    "        batch_size=64,\n",
    "        epochs=50)\n",
    "    return history,model"
   ]
  },
  {
   "cell_type": "code",
   "execution_count": 53,
   "metadata": {
    "colab": {
     "base_uri": "https://localhost:8080/",
     "height": 1000,
     "referenced_widgets": [
      "f649973309274c05a42c26f490f475c2",
      "0c33c8bbe1c34fa6bda5de126bc2d063",
      "3f8d8ddf400b4bf2857e9c4ad8cb90e1",
      "1315ecb9ed0f4c96be2516124fe7fefe",
      "2a45019f29884092adcd5903486aa728",
      "7b68ad2d5d4445d5bdc60290234d5247",
      "0614716022fe4d32aee8d28f0897c255",
      "2dd992e074cb4463ac9655f8458bdea8",
      "b0aaca5b511b4fd29ba6fa6c8a9e48fd",
      "107d9fb64aee4cfc959466412b35b932",
      "569ccb4fbcfa438f9942529c14790230",
      "56cd29473f2b4698932dca377e55d0f3",
      "3747634c672a46c1bfc2fdf59ccde5f6",
      "6124c001ae2744939469bab28aca22e2",
      "f00f1fe676da4684bd9a146128a7f6e5",
      "33459acded0549ec92c0d8463aa5c6ae",
      "dbdabe11ee0f400ab8b9857cba31040b",
      "9c2f1803b33d4c06810859fd60c5e376",
      "d0aff4574bbc480d8a0b9cb0ed39536f",
      "8acb02add57e42fab18ea40bcfbba679",
      "74776eeaf2e14cf8a27d62ca45a2f505",
      "44c14d305bb14114be717ccb38fa8ab9",
      "bd698ff2914f4fe9a5d528d9ba783db8",
      "a6720f9a762e4e66af98fe9b45d4471b",
      "4f1385568e34444bb888269e1300388c",
      "e0e59f43c8a54431bbf0c9065416691f",
      "a7f97312be914df88c06eafe33147d27",
      "90a73bc66f334abf804f87f9620d51ac",
      "409d0f0316834d70a6d4ad135d053fb8",
      "fb0914cb8b6945d195a53ea263446581",
      "7fcf2d4f422b4324b9b0838224471e86",
      "9d52828a93af4fb08ca3438e2cc4db14",
      "944f5dc8e31c4baa923bd47a210c70cf",
      "1d1b66a2b0fb4efb82472f26ba84acc3",
      "48be2267b97e424cb96baef1907e61d2",
      "97dcd85214bd462e930f56349399e1ad",
      "7b7621efb03a47a58db7b1ffb4b7080c",
      "f7774c66bcef403489df9c814ece23d5",
      "23bb1d43767345daad5862055497a655",
      "49c5662c66ed40b19b9d5570ca12abda",
      "d25542414303485b81e6e3914fbca2a8",
      "222dbb4df16f4ba5b5a823b207b0f97b",
      "b2fa458a43ba4047a5e35d49925f7386",
      "6ce3b197378e4698b922114c5f5d1ccf"
     ]
    },
    "id": "FGgN6R_wz114",
    "outputId": "902a8a10-ed00-4e1b-ebe4-6b8d9967687a"
   },
   "outputs": [
    {
     "name": "stdout",
     "output_type": "stream",
     "text": [
      "INFO:tensorflow:Deallocate tpu buffers before initializing tpu system.\n"
     ]
    },
    {
     "name": "stderr",
     "output_type": "stream",
     "text": [
      "INFO:tensorflow:Deallocate tpu buffers before initializing tpu system.\n"
     ]
    },
    {
     "name": "stdout",
     "output_type": "stream",
     "text": [
      "INFO:tensorflow:Initializing the TPU system: grpc://10.122.171.210:8470\n"
     ]
    },
    {
     "name": "stderr",
     "output_type": "stream",
     "text": [
      "INFO:tensorflow:Initializing the TPU system: grpc://10.122.171.210:8470\n"
     ]
    },
    {
     "name": "stdout",
     "output_type": "stream",
     "text": [
      "INFO:tensorflow:Finished initializing TPU system.\n"
     ]
    },
    {
     "name": "stderr",
     "output_type": "stream",
     "text": [
      "INFO:tensorflow:Finished initializing TPU system.\n",
      "WARNING:absl:`tf.distribute.experimental.TPUStrategy` is deprecated, please use  the non experimental symbol `tf.distribute.TPUStrategy` instead.\n"
     ]
    },
    {
     "name": "stdout",
     "output_type": "stream",
     "text": [
      "INFO:tensorflow:Found TPU system:\n"
     ]
    },
    {
     "name": "stderr",
     "output_type": "stream",
     "text": [
      "INFO:tensorflow:Found TPU system:\n"
     ]
    },
    {
     "name": "stdout",
     "output_type": "stream",
     "text": [
      "INFO:tensorflow:*** Num TPU Cores: 8\n"
     ]
    },
    {
     "name": "stderr",
     "output_type": "stream",
     "text": [
      "INFO:tensorflow:*** Num TPU Cores: 8\n"
     ]
    },
    {
     "name": "stdout",
     "output_type": "stream",
     "text": [
      "INFO:tensorflow:*** Num TPU Workers: 1\n"
     ]
    },
    {
     "name": "stderr",
     "output_type": "stream",
     "text": [
      "INFO:tensorflow:*** Num TPU Workers: 1\n"
     ]
    },
    {
     "name": "stdout",
     "output_type": "stream",
     "text": [
      "INFO:tensorflow:*** Num TPU Cores Per Worker: 8\n"
     ]
    },
    {
     "name": "stderr",
     "output_type": "stream",
     "text": [
      "INFO:tensorflow:*** Num TPU Cores Per Worker: 8\n"
     ]
    },
    {
     "name": "stdout",
     "output_type": "stream",
     "text": [
      "INFO:tensorflow:*** Available Device: _DeviceAttributes(/job:localhost/replica:0/task:0/device:CPU:0, CPU, 0, 0)\n"
     ]
    },
    {
     "name": "stderr",
     "output_type": "stream",
     "text": [
      "INFO:tensorflow:*** Available Device: _DeviceAttributes(/job:localhost/replica:0/task:0/device:CPU:0, CPU, 0, 0)\n"
     ]
    },
    {
     "name": "stdout",
     "output_type": "stream",
     "text": [
      "INFO:tensorflow:*** Available Device: _DeviceAttributes(/job:worker/replica:0/task:0/device:CPU:0, CPU, 0, 0)\n"
     ]
    },
    {
     "name": "stderr",
     "output_type": "stream",
     "text": [
      "INFO:tensorflow:*** Available Device: _DeviceAttributes(/job:worker/replica:0/task:0/device:CPU:0, CPU, 0, 0)\n"
     ]
    },
    {
     "name": "stdout",
     "output_type": "stream",
     "text": [
      "INFO:tensorflow:*** Available Device: _DeviceAttributes(/job:worker/replica:0/task:0/device:TPU:0, TPU, 0, 0)\n"
     ]
    },
    {
     "name": "stderr",
     "output_type": "stream",
     "text": [
      "INFO:tensorflow:*** Available Device: _DeviceAttributes(/job:worker/replica:0/task:0/device:TPU:0, TPU, 0, 0)\n"
     ]
    },
    {
     "name": "stdout",
     "output_type": "stream",
     "text": [
      "INFO:tensorflow:*** Available Device: _DeviceAttributes(/job:worker/replica:0/task:0/device:TPU:1, TPU, 0, 0)\n"
     ]
    },
    {
     "name": "stderr",
     "output_type": "stream",
     "text": [
      "INFO:tensorflow:*** Available Device: _DeviceAttributes(/job:worker/replica:0/task:0/device:TPU:1, TPU, 0, 0)\n"
     ]
    },
    {
     "name": "stdout",
     "output_type": "stream",
     "text": [
      "INFO:tensorflow:*** Available Device: _DeviceAttributes(/job:worker/replica:0/task:0/device:TPU:2, TPU, 0, 0)\n"
     ]
    },
    {
     "name": "stderr",
     "output_type": "stream",
     "text": [
      "INFO:tensorflow:*** Available Device: _DeviceAttributes(/job:worker/replica:0/task:0/device:TPU:2, TPU, 0, 0)\n"
     ]
    },
    {
     "name": "stdout",
     "output_type": "stream",
     "text": [
      "INFO:tensorflow:*** Available Device: _DeviceAttributes(/job:worker/replica:0/task:0/device:TPU:3, TPU, 0, 0)\n"
     ]
    },
    {
     "name": "stderr",
     "output_type": "stream",
     "text": [
      "INFO:tensorflow:*** Available Device: _DeviceAttributes(/job:worker/replica:0/task:0/device:TPU:3, TPU, 0, 0)\n"
     ]
    },
    {
     "name": "stdout",
     "output_type": "stream",
     "text": [
      "INFO:tensorflow:*** Available Device: _DeviceAttributes(/job:worker/replica:0/task:0/device:TPU:4, TPU, 0, 0)\n"
     ]
    },
    {
     "name": "stderr",
     "output_type": "stream",
     "text": [
      "INFO:tensorflow:*** Available Device: _DeviceAttributes(/job:worker/replica:0/task:0/device:TPU:4, TPU, 0, 0)\n"
     ]
    },
    {
     "name": "stdout",
     "output_type": "stream",
     "text": [
      "INFO:tensorflow:*** Available Device: _DeviceAttributes(/job:worker/replica:0/task:0/device:TPU:5, TPU, 0, 0)\n"
     ]
    },
    {
     "name": "stderr",
     "output_type": "stream",
     "text": [
      "INFO:tensorflow:*** Available Device: _DeviceAttributes(/job:worker/replica:0/task:0/device:TPU:5, TPU, 0, 0)\n"
     ]
    },
    {
     "name": "stdout",
     "output_type": "stream",
     "text": [
      "INFO:tensorflow:*** Available Device: _DeviceAttributes(/job:worker/replica:0/task:0/device:TPU:6, TPU, 0, 0)\n"
     ]
    },
    {
     "name": "stderr",
     "output_type": "stream",
     "text": [
      "INFO:tensorflow:*** Available Device: _DeviceAttributes(/job:worker/replica:0/task:0/device:TPU:6, TPU, 0, 0)\n"
     ]
    },
    {
     "name": "stdout",
     "output_type": "stream",
     "text": [
      "INFO:tensorflow:*** Available Device: _DeviceAttributes(/job:worker/replica:0/task:0/device:TPU:7, TPU, 0, 0)\n"
     ]
    },
    {
     "name": "stderr",
     "output_type": "stream",
     "text": [
      "INFO:tensorflow:*** Available Device: _DeviceAttributes(/job:worker/replica:0/task:0/device:TPU:7, TPU, 0, 0)\n"
     ]
    },
    {
     "name": "stdout",
     "output_type": "stream",
     "text": [
      "INFO:tensorflow:*** Available Device: _DeviceAttributes(/job:worker/replica:0/task:0/device:TPU_SYSTEM:0, TPU_SYSTEM, 0, 0)\n"
     ]
    },
    {
     "name": "stderr",
     "output_type": "stream",
     "text": [
      "INFO:tensorflow:*** Available Device: _DeviceAttributes(/job:worker/replica:0/task:0/device:TPU_SYSTEM:0, TPU_SYSTEM, 0, 0)\n"
     ]
    },
    {
     "name": "stdout",
     "output_type": "stream",
     "text": [
      "INFO:tensorflow:*** Available Device: _DeviceAttributes(/job:worker/replica:0/task:0/device:XLA_CPU:0, XLA_CPU, 0, 0)\n"
     ]
    },
    {
     "name": "stderr",
     "output_type": "stream",
     "text": [
      "INFO:tensorflow:*** Available Device: _DeviceAttributes(/job:worker/replica:0/task:0/device:XLA_CPU:0, XLA_CPU, 0, 0)\n"
     ]
    },
    {
     "data": {
      "application/vnd.jupyter.widget-view+json": {
       "model_id": "f649973309274c05a42c26f490f475c2",
       "version_major": 2,
       "version_minor": 0
      },
      "text/plain": [
       "Downloading:   0%|          | 0.00/761 [00:00<?, ?B/s]"
      ]
     },
     "metadata": {},
     "output_type": "display_data"
    },
    {
     "data": {
      "application/vnd.jupyter.widget-view+json": {
       "model_id": "56cd29473f2b4698932dca377e55d0f3",
       "version_major": 2,
       "version_minor": 0
      },
      "text/plain": [
       "Downloading:   0%|          | 0.00/779k [00:00<?, ?B/s]"
      ]
     },
     "metadata": {},
     "output_type": "display_data"
    },
    {
     "data": {
      "application/vnd.jupyter.widget-view+json": {
       "model_id": "bd698ff2914f4fe9a5d528d9ba783db8",
       "version_major": 2,
       "version_minor": 0
      },
      "text/plain": [
       "Downloading:   0%|          | 0.00/1.32M [00:00<?, ?B/s]"
      ]
     },
     "metadata": {},
     "output_type": "display_data"
    },
    {
     "data": {
      "application/vnd.jupyter.widget-view+json": {
       "model_id": "1d1b66a2b0fb4efb82472f26ba84acc3",
       "version_major": 2,
       "version_minor": 0
      },
      "text/plain": [
       "Downloading:   0%|          | 0.00/1.46G [00:00<?, ?B/s]"
      ]
     },
     "metadata": {},
     "output_type": "display_data"
    },
    {
     "name": "stderr",
     "output_type": "stream",
     "text": [
      "Some layers from the model checkpoint at xlnet-large-cased were not used when initializing TFXLNetModel: ['lm_loss']\n",
      "- This IS expected if you are initializing TFXLNetModel from the checkpoint of a model trained on another task or with another architecture (e.g. initializing a BertForSequenceClassification model from a BertForPreTraining model).\n",
      "- This IS NOT expected if you are initializing TFXLNetModel from the checkpoint of a model that you expect to be exactly identical (initializing a BertForSequenceClassification model from a BertForSequenceClassification model).\n",
      "All the layers of TFXLNetModel were initialized from the model checkpoint at xlnet-large-cased.\n",
      "If your task is similar to the task the model of the checkpoint was trained on, you can already use TFXLNetModel for predictions without further training.\n"
     ]
    },
    {
     "name": "stdout",
     "output_type": "stream",
     "text": [
      "Epoch 1/50\n",
      "WARNING:tensorflow:Gradients do not exist for variables ['tfxl_net_model/transformer/mask_emb:0', 'tfxl_net_model/transformer/layer_._0/rel_attn/r_s_bias:0', 'tfxl_net_model/transformer/layer_._0/rel_attn/seg_embed:0', 'tfxl_net_model/transformer/layer_._1/rel_attn/r_s_bias:0', 'tfxl_net_model/transformer/layer_._1/rel_attn/seg_embed:0', 'tfxl_net_model/transformer/layer_._2/rel_attn/r_s_bias:0', 'tfxl_net_model/transformer/layer_._2/rel_attn/seg_embed:0', 'tfxl_net_model/transformer/layer_._3/rel_attn/r_s_bias:0', 'tfxl_net_model/transformer/layer_._3/rel_attn/seg_embed:0', 'tfxl_net_model/transformer/layer_._4/rel_attn/r_s_bias:0', 'tfxl_net_model/transformer/layer_._4/rel_attn/seg_embed:0', 'tfxl_net_model/transformer/layer_._5/rel_attn/r_s_bias:0', 'tfxl_net_model/transformer/layer_._5/rel_attn/seg_embed:0', 'tfxl_net_model/transformer/layer_._6/rel_attn/r_s_bias:0', 'tfxl_net_model/transformer/layer_._6/rel_attn/seg_embed:0', 'tfxl_net_model/transformer/layer_._7/rel_attn/r_s_bias:0', 'tfxl_net_model/transformer/layer_._7/rel_attn/seg_embed:0', 'tfxl_net_model/transformer/layer_._8/rel_attn/r_s_bias:0', 'tfxl_net_model/transformer/layer_._8/rel_attn/seg_embed:0', 'tfxl_net_model/transformer/layer_._9/rel_attn/r_s_bias:0', 'tfxl_net_model/transformer/layer_._9/rel_attn/seg_embed:0', 'tfxl_net_model/transformer/layer_._10/rel_attn/r_s_bias:0', 'tfxl_net_model/transformer/layer_._10/rel_attn/seg_embed:0', 'tfxl_net_model/transformer/layer_._11/rel_attn/r_s_bias:0', 'tfxl_net_model/transformer/layer_._11/rel_attn/seg_embed:0', 'tfxl_net_model/transformer/layer_._12/rel_attn/r_s_bias:0', 'tfxl_net_model/transformer/layer_._12/rel_attn/seg_embed:0', 'tfxl_net_model/transformer/layer_._13/rel_attn/r_s_bias:0', 'tfxl_net_model/transformer/layer_._13/rel_attn/seg_embed:0', 'tfxl_net_model/transformer/layer_._14/rel_attn/r_s_bias:0', 'tfxl_net_model/transformer/layer_._14/rel_attn/seg_embed:0', 'tfxl_net_model/transformer/layer_._15/rel_attn/r_s_bias:0', 'tfxl_net_model/transformer/layer_._15/rel_attn/seg_embed:0', 'tfxl_net_model/transformer/layer_._16/rel_attn/r_s_bias:0', 'tfxl_net_model/transformer/layer_._16/rel_attn/seg_embed:0', 'tfxl_net_model/transformer/layer_._17/rel_attn/r_s_bias:0', 'tfxl_net_model/transformer/layer_._17/rel_attn/seg_embed:0', 'tfxl_net_model/transformer/layer_._18/rel_attn/r_s_bias:0', 'tfxl_net_model/transformer/layer_._18/rel_attn/seg_embed:0', 'tfxl_net_model/transformer/layer_._19/rel_attn/r_s_bias:0', 'tfxl_net_model/transformer/layer_._19/rel_attn/seg_embed:0', 'tfxl_net_model/transformer/layer_._20/rel_attn/r_s_bias:0', 'tfxl_net_model/transformer/layer_._20/rel_attn/seg_embed:0', 'tfxl_net_model/transformer/layer_._21/rel_attn/r_s_bias:0', 'tfxl_net_model/transformer/layer_._21/rel_attn/seg_embed:0', 'tfxl_net_model/transformer/layer_._22/rel_attn/r_s_bias:0', 'tfxl_net_model/transformer/layer_._22/rel_attn/seg_embed:0', 'tfxl_net_model/transformer/layer_._23/rel_attn/r_s_bias:0', 'tfxl_net_model/transformer/layer_._23/rel_attn/seg_embed:0'] when minimizing the loss. If you're using `model.compile()`, did you forget to provide a `loss`argument?\n"
     ]
    },
    {
     "name": "stderr",
     "output_type": "stream",
     "text": [
      "WARNING:tensorflow:Gradients do not exist for variables ['tfxl_net_model/transformer/mask_emb:0', 'tfxl_net_model/transformer/layer_._0/rel_attn/r_s_bias:0', 'tfxl_net_model/transformer/layer_._0/rel_attn/seg_embed:0', 'tfxl_net_model/transformer/layer_._1/rel_attn/r_s_bias:0', 'tfxl_net_model/transformer/layer_._1/rel_attn/seg_embed:0', 'tfxl_net_model/transformer/layer_._2/rel_attn/r_s_bias:0', 'tfxl_net_model/transformer/layer_._2/rel_attn/seg_embed:0', 'tfxl_net_model/transformer/layer_._3/rel_attn/r_s_bias:0', 'tfxl_net_model/transformer/layer_._3/rel_attn/seg_embed:0', 'tfxl_net_model/transformer/layer_._4/rel_attn/r_s_bias:0', 'tfxl_net_model/transformer/layer_._4/rel_attn/seg_embed:0', 'tfxl_net_model/transformer/layer_._5/rel_attn/r_s_bias:0', 'tfxl_net_model/transformer/layer_._5/rel_attn/seg_embed:0', 'tfxl_net_model/transformer/layer_._6/rel_attn/r_s_bias:0', 'tfxl_net_model/transformer/layer_._6/rel_attn/seg_embed:0', 'tfxl_net_model/transformer/layer_._7/rel_attn/r_s_bias:0', 'tfxl_net_model/transformer/layer_._7/rel_attn/seg_embed:0', 'tfxl_net_model/transformer/layer_._8/rel_attn/r_s_bias:0', 'tfxl_net_model/transformer/layer_._8/rel_attn/seg_embed:0', 'tfxl_net_model/transformer/layer_._9/rel_attn/r_s_bias:0', 'tfxl_net_model/transformer/layer_._9/rel_attn/seg_embed:0', 'tfxl_net_model/transformer/layer_._10/rel_attn/r_s_bias:0', 'tfxl_net_model/transformer/layer_._10/rel_attn/seg_embed:0', 'tfxl_net_model/transformer/layer_._11/rel_attn/r_s_bias:0', 'tfxl_net_model/transformer/layer_._11/rel_attn/seg_embed:0', 'tfxl_net_model/transformer/layer_._12/rel_attn/r_s_bias:0', 'tfxl_net_model/transformer/layer_._12/rel_attn/seg_embed:0', 'tfxl_net_model/transformer/layer_._13/rel_attn/r_s_bias:0', 'tfxl_net_model/transformer/layer_._13/rel_attn/seg_embed:0', 'tfxl_net_model/transformer/layer_._14/rel_attn/r_s_bias:0', 'tfxl_net_model/transformer/layer_._14/rel_attn/seg_embed:0', 'tfxl_net_model/transformer/layer_._15/rel_attn/r_s_bias:0', 'tfxl_net_model/transformer/layer_._15/rel_attn/seg_embed:0', 'tfxl_net_model/transformer/layer_._16/rel_attn/r_s_bias:0', 'tfxl_net_model/transformer/layer_._16/rel_attn/seg_embed:0', 'tfxl_net_model/transformer/layer_._17/rel_attn/r_s_bias:0', 'tfxl_net_model/transformer/layer_._17/rel_attn/seg_embed:0', 'tfxl_net_model/transformer/layer_._18/rel_attn/r_s_bias:0', 'tfxl_net_model/transformer/layer_._18/rel_attn/seg_embed:0', 'tfxl_net_model/transformer/layer_._19/rel_attn/r_s_bias:0', 'tfxl_net_model/transformer/layer_._19/rel_attn/seg_embed:0', 'tfxl_net_model/transformer/layer_._20/rel_attn/r_s_bias:0', 'tfxl_net_model/transformer/layer_._20/rel_attn/seg_embed:0', 'tfxl_net_model/transformer/layer_._21/rel_attn/r_s_bias:0', 'tfxl_net_model/transformer/layer_._21/rel_attn/seg_embed:0', 'tfxl_net_model/transformer/layer_._22/rel_attn/r_s_bias:0', 'tfxl_net_model/transformer/layer_._22/rel_attn/seg_embed:0', 'tfxl_net_model/transformer/layer_._23/rel_attn/r_s_bias:0', 'tfxl_net_model/transformer/layer_._23/rel_attn/seg_embed:0'] when minimizing the loss. If you're using `model.compile()`, did you forget to provide a `loss`argument?\n"
     ]
    },
    {
     "name": "stdout",
     "output_type": "stream",
     "text": [
      "WARNING:tensorflow:Gradients do not exist for variables ['tfxl_net_model/transformer/mask_emb:0', 'tfxl_net_model/transformer/layer_._0/rel_attn/r_s_bias:0', 'tfxl_net_model/transformer/layer_._0/rel_attn/seg_embed:0', 'tfxl_net_model/transformer/layer_._1/rel_attn/r_s_bias:0', 'tfxl_net_model/transformer/layer_._1/rel_attn/seg_embed:0', 'tfxl_net_model/transformer/layer_._2/rel_attn/r_s_bias:0', 'tfxl_net_model/transformer/layer_._2/rel_attn/seg_embed:0', 'tfxl_net_model/transformer/layer_._3/rel_attn/r_s_bias:0', 'tfxl_net_model/transformer/layer_._3/rel_attn/seg_embed:0', 'tfxl_net_model/transformer/layer_._4/rel_attn/r_s_bias:0', 'tfxl_net_model/transformer/layer_._4/rel_attn/seg_embed:0', 'tfxl_net_model/transformer/layer_._5/rel_attn/r_s_bias:0', 'tfxl_net_model/transformer/layer_._5/rel_attn/seg_embed:0', 'tfxl_net_model/transformer/layer_._6/rel_attn/r_s_bias:0', 'tfxl_net_model/transformer/layer_._6/rel_attn/seg_embed:0', 'tfxl_net_model/transformer/layer_._7/rel_attn/r_s_bias:0', 'tfxl_net_model/transformer/layer_._7/rel_attn/seg_embed:0', 'tfxl_net_model/transformer/layer_._8/rel_attn/r_s_bias:0', 'tfxl_net_model/transformer/layer_._8/rel_attn/seg_embed:0', 'tfxl_net_model/transformer/layer_._9/rel_attn/r_s_bias:0', 'tfxl_net_model/transformer/layer_._9/rel_attn/seg_embed:0', 'tfxl_net_model/transformer/layer_._10/rel_attn/r_s_bias:0', 'tfxl_net_model/transformer/layer_._10/rel_attn/seg_embed:0', 'tfxl_net_model/transformer/layer_._11/rel_attn/r_s_bias:0', 'tfxl_net_model/transformer/layer_._11/rel_attn/seg_embed:0', 'tfxl_net_model/transformer/layer_._12/rel_attn/r_s_bias:0', 'tfxl_net_model/transformer/layer_._12/rel_attn/seg_embed:0', 'tfxl_net_model/transformer/layer_._13/rel_attn/r_s_bias:0', 'tfxl_net_model/transformer/layer_._13/rel_attn/seg_embed:0', 'tfxl_net_model/transformer/layer_._14/rel_attn/r_s_bias:0', 'tfxl_net_model/transformer/layer_._14/rel_attn/seg_embed:0', 'tfxl_net_model/transformer/layer_._15/rel_attn/r_s_bias:0', 'tfxl_net_model/transformer/layer_._15/rel_attn/seg_embed:0', 'tfxl_net_model/transformer/layer_._16/rel_attn/r_s_bias:0', 'tfxl_net_model/transformer/layer_._16/rel_attn/seg_embed:0', 'tfxl_net_model/transformer/layer_._17/rel_attn/r_s_bias:0', 'tfxl_net_model/transformer/layer_._17/rel_attn/seg_embed:0', 'tfxl_net_model/transformer/layer_._18/rel_attn/r_s_bias:0', 'tfxl_net_model/transformer/layer_._18/rel_attn/seg_embed:0', 'tfxl_net_model/transformer/layer_._19/rel_attn/r_s_bias:0', 'tfxl_net_model/transformer/layer_._19/rel_attn/seg_embed:0', 'tfxl_net_model/transformer/layer_._20/rel_attn/r_s_bias:0', 'tfxl_net_model/transformer/layer_._20/rel_attn/seg_embed:0', 'tfxl_net_model/transformer/layer_._21/rel_attn/r_s_bias:0', 'tfxl_net_model/transformer/layer_._21/rel_attn/seg_embed:0', 'tfxl_net_model/transformer/layer_._22/rel_attn/r_s_bias:0', 'tfxl_net_model/transformer/layer_._22/rel_attn/seg_embed:0', 'tfxl_net_model/transformer/layer_._23/rel_attn/r_s_bias:0', 'tfxl_net_model/transformer/layer_._23/rel_attn/seg_embed:0'] when minimizing the loss. If you're using `model.compile()`, did you forget to provide a `loss`argument?\n"
     ]
    },
    {
     "name": "stderr",
     "output_type": "stream",
     "text": [
      "WARNING:tensorflow:Gradients do not exist for variables ['tfxl_net_model/transformer/mask_emb:0', 'tfxl_net_model/transformer/layer_._0/rel_attn/r_s_bias:0', 'tfxl_net_model/transformer/layer_._0/rel_attn/seg_embed:0', 'tfxl_net_model/transformer/layer_._1/rel_attn/r_s_bias:0', 'tfxl_net_model/transformer/layer_._1/rel_attn/seg_embed:0', 'tfxl_net_model/transformer/layer_._2/rel_attn/r_s_bias:0', 'tfxl_net_model/transformer/layer_._2/rel_attn/seg_embed:0', 'tfxl_net_model/transformer/layer_._3/rel_attn/r_s_bias:0', 'tfxl_net_model/transformer/layer_._3/rel_attn/seg_embed:0', 'tfxl_net_model/transformer/layer_._4/rel_attn/r_s_bias:0', 'tfxl_net_model/transformer/layer_._4/rel_attn/seg_embed:0', 'tfxl_net_model/transformer/layer_._5/rel_attn/r_s_bias:0', 'tfxl_net_model/transformer/layer_._5/rel_attn/seg_embed:0', 'tfxl_net_model/transformer/layer_._6/rel_attn/r_s_bias:0', 'tfxl_net_model/transformer/layer_._6/rel_attn/seg_embed:0', 'tfxl_net_model/transformer/layer_._7/rel_attn/r_s_bias:0', 'tfxl_net_model/transformer/layer_._7/rel_attn/seg_embed:0', 'tfxl_net_model/transformer/layer_._8/rel_attn/r_s_bias:0', 'tfxl_net_model/transformer/layer_._8/rel_attn/seg_embed:0', 'tfxl_net_model/transformer/layer_._9/rel_attn/r_s_bias:0', 'tfxl_net_model/transformer/layer_._9/rel_attn/seg_embed:0', 'tfxl_net_model/transformer/layer_._10/rel_attn/r_s_bias:0', 'tfxl_net_model/transformer/layer_._10/rel_attn/seg_embed:0', 'tfxl_net_model/transformer/layer_._11/rel_attn/r_s_bias:0', 'tfxl_net_model/transformer/layer_._11/rel_attn/seg_embed:0', 'tfxl_net_model/transformer/layer_._12/rel_attn/r_s_bias:0', 'tfxl_net_model/transformer/layer_._12/rel_attn/seg_embed:0', 'tfxl_net_model/transformer/layer_._13/rel_attn/r_s_bias:0', 'tfxl_net_model/transformer/layer_._13/rel_attn/seg_embed:0', 'tfxl_net_model/transformer/layer_._14/rel_attn/r_s_bias:0', 'tfxl_net_model/transformer/layer_._14/rel_attn/seg_embed:0', 'tfxl_net_model/transformer/layer_._15/rel_attn/r_s_bias:0', 'tfxl_net_model/transformer/layer_._15/rel_attn/seg_embed:0', 'tfxl_net_model/transformer/layer_._16/rel_attn/r_s_bias:0', 'tfxl_net_model/transformer/layer_._16/rel_attn/seg_embed:0', 'tfxl_net_model/transformer/layer_._17/rel_attn/r_s_bias:0', 'tfxl_net_model/transformer/layer_._17/rel_attn/seg_embed:0', 'tfxl_net_model/transformer/layer_._18/rel_attn/r_s_bias:0', 'tfxl_net_model/transformer/layer_._18/rel_attn/seg_embed:0', 'tfxl_net_model/transformer/layer_._19/rel_attn/r_s_bias:0', 'tfxl_net_model/transformer/layer_._19/rel_attn/seg_embed:0', 'tfxl_net_model/transformer/layer_._20/rel_attn/r_s_bias:0', 'tfxl_net_model/transformer/layer_._20/rel_attn/seg_embed:0', 'tfxl_net_model/transformer/layer_._21/rel_attn/r_s_bias:0', 'tfxl_net_model/transformer/layer_._21/rel_attn/seg_embed:0', 'tfxl_net_model/transformer/layer_._22/rel_attn/r_s_bias:0', 'tfxl_net_model/transformer/layer_._22/rel_attn/seg_embed:0', 'tfxl_net_model/transformer/layer_._23/rel_attn/r_s_bias:0', 'tfxl_net_model/transformer/layer_._23/rel_attn/seg_embed:0'] when minimizing the loss. If you're using `model.compile()`, did you forget to provide a `loss`argument?\n"
     ]
    },
    {
     "name": "stdout",
     "output_type": "stream",
     "text": [
      "946/946 [==============================] - 463s 304ms/step - loss: 1.4769 - accuracy: 0.5447 - val_loss: 1.2333 - val_accuracy: 0.6297\n",
      "Epoch 2/50\n",
      "946/946 [==============================] - 154s 163ms/step - loss: 1.1655 - accuracy: 0.6391 - val_loss: 1.1510 - val_accuracy: 0.6483\n",
      "Epoch 3/50\n",
      "946/946 [==============================] - 154s 162ms/step - loss: 1.0683 - accuracy: 0.6666 - val_loss: 1.0831 - val_accuracy: 0.6601\n",
      "Epoch 4/50\n",
      "946/946 [==============================] - 153s 162ms/step - loss: 1.0112 - accuracy: 0.6796 - val_loss: 1.0442 - val_accuracy: 0.6700\n",
      "Epoch 5/50\n",
      "946/946 [==============================] - 154s 162ms/step - loss: 0.9727 - accuracy: 0.6900 - val_loss: 1.0659 - val_accuracy: 0.6613\n",
      "Epoch 6/50\n",
      "946/946 [==============================] - 154s 163ms/step - loss: 0.9414 - accuracy: 0.6981 - val_loss: 1.0343 - val_accuracy: 0.6798\n",
      "Epoch 7/50\n",
      "946/946 [==============================] - 154s 162ms/step - loss: 0.9235 - accuracy: 0.7015 - val_loss: 1.0301 - val_accuracy: 0.6791\n",
      "Epoch 8/50\n",
      "946/946 [==============================] - 154s 162ms/step - loss: 0.9019 - accuracy: 0.7087 - val_loss: 1.0211 - val_accuracy: 0.6841\n",
      "Epoch 9/50\n",
      "946/946 [==============================] - 153s 162ms/step - loss: 0.8866 - accuracy: 0.7102 - val_loss: 1.0091 - val_accuracy: 0.6874\n",
      "Epoch 10/50\n",
      "946/946 [==============================] - 154s 163ms/step - loss: 0.8711 - accuracy: 0.7147 - val_loss: 0.9923 - val_accuracy: 0.6904\n",
      "Epoch 11/50\n",
      "946/946 [==============================] - 154s 162ms/step - loss: 0.8614 - accuracy: 0.7175 - val_loss: 0.9911 - val_accuracy: 0.6874\n",
      "Epoch 12/50\n",
      "946/946 [==============================] - 154s 162ms/step - loss: 0.8530 - accuracy: 0.7195 - val_loss: 0.9903 - val_accuracy: 0.6970\n",
      "Epoch 13/50\n",
      "946/946 [==============================] - 154s 163ms/step - loss: 0.8404 - accuracy: 0.7239 - val_loss: 0.9830 - val_accuracy: 0.6945\n",
      "Epoch 14/50\n",
      "946/946 [==============================] - 154s 163ms/step - loss: 0.8342 - accuracy: 0.7248 - val_loss: 0.9817 - val_accuracy: 0.6948\n",
      "Epoch 15/50\n",
      "946/946 [==============================] - 154s 162ms/step - loss: 0.8243 - accuracy: 0.7274 - val_loss: 0.9731 - val_accuracy: 0.6974\n",
      "Epoch 16/50\n",
      "946/946 [==============================] - 154s 162ms/step - loss: 0.8206 - accuracy: 0.7274 - val_loss: 0.9666 - val_accuracy: 0.7006\n",
      "Epoch 17/50\n",
      "946/946 [==============================] - 154s 163ms/step - loss: 0.8117 - accuracy: 0.7317 - val_loss: 0.9846 - val_accuracy: 0.6937\n",
      "Epoch 18/50\n",
      "946/946 [==============================] - 154s 163ms/step - loss: 0.8032 - accuracy: 0.7324 - val_loss: 0.9678 - val_accuracy: 0.7014\n",
      "Epoch 19/50\n",
      "946/946 [==============================] - 154s 163ms/step - loss: 0.7992 - accuracy: 0.7343 - val_loss: 0.9846 - val_accuracy: 0.6937\n",
      "Epoch 20/50\n",
      "946/946 [==============================] - 154s 163ms/step - loss: 0.7945 - accuracy: 0.7335 - val_loss: 0.9822 - val_accuracy: 0.6929\n",
      "Epoch 21/50\n",
      "946/946 [==============================] - 154s 163ms/step - loss: 0.7909 - accuracy: 0.7361 - val_loss: 0.9748 - val_accuracy: 0.6969\n",
      "Epoch 22/50\n",
      "946/946 [==============================] - 154s 163ms/step - loss: 0.7900 - accuracy: 0.7356 - val_loss: 0.9684 - val_accuracy: 0.6989\n",
      "Epoch 23/50\n",
      "946/946 [==============================] - 154s 163ms/step - loss: 0.7783 - accuracy: 0.7381 - val_loss: 0.9632 - val_accuracy: 0.7038\n",
      "Epoch 24/50\n",
      "946/946 [==============================] - 155s 163ms/step - loss: 0.7788 - accuracy: 0.7392 - val_loss: 0.9657 - val_accuracy: 0.7016\n",
      "Epoch 25/50\n",
      "946/946 [==============================] - 155s 164ms/step - loss: 0.7773 - accuracy: 0.7390 - val_loss: 0.9580 - val_accuracy: 0.7036\n",
      "Epoch 26/50\n",
      "946/946 [==============================] - 155s 164ms/step - loss: 0.7772 - accuracy: 0.7381 - val_loss: 0.9600 - val_accuracy: 0.6980\n",
      "Epoch 27/50\n",
      "946/946 [==============================] - 155s 164ms/step - loss: 0.7670 - accuracy: 0.7418 - val_loss: 0.9695 - val_accuracy: 0.6986\n",
      "Epoch 28/50\n",
      "946/946 [==============================] - 155s 164ms/step - loss: 0.7639 - accuracy: 0.7435 - val_loss: 0.9554 - val_accuracy: 0.7060\n",
      "Epoch 29/50\n",
      "946/946 [==============================] - 155s 164ms/step - loss: 0.7630 - accuracy: 0.7434 - val_loss: 0.9510 - val_accuracy: 0.7052\n",
      "Epoch 30/50\n",
      "946/946 [==============================] - 154s 162ms/step - loss: 0.7619 - accuracy: 0.7421 - val_loss: 0.9588 - val_accuracy: 0.7036\n",
      "Epoch 31/50\n",
      "946/946 [==============================] - 153s 162ms/step - loss: 0.7528 - accuracy: 0.7442 - val_loss: 0.9715 - val_accuracy: 0.6972\n",
      "Epoch 32/50\n",
      "946/946 [==============================] - 153s 161ms/step - loss: 0.7524 - accuracy: 0.7444 - val_loss: 0.9619 - val_accuracy: 0.7053\n",
      "Epoch 33/50\n",
      "946/946 [==============================] - 153s 161ms/step - loss: 0.7478 - accuracy: 0.7456 - val_loss: 0.9548 - val_accuracy: 0.7042\n",
      "Epoch 34/50\n",
      "946/946 [==============================] - 154s 162ms/step - loss: 0.7472 - accuracy: 0.7449 - val_loss: 0.9608 - val_accuracy: 0.7034\n",
      "Epoch 35/50\n",
      "946/946 [==============================] - 153s 162ms/step - loss: 0.7439 - accuracy: 0.7463 - val_loss: 0.9589 - val_accuracy: 0.7037\n",
      "Epoch 36/50\n",
      "946/946 [==============================] - 154s 163ms/step - loss: 0.7433 - accuracy: 0.7476 - val_loss: 0.9624 - val_accuracy: 0.7034\n",
      "Epoch 37/50\n",
      "946/946 [==============================] - 154s 163ms/step - loss: 0.7402 - accuracy: 0.7496 - val_loss: 0.9640 - val_accuracy: 0.7040\n",
      "Epoch 38/50\n",
      "946/946 [==============================] - 154s 163ms/step - loss: 0.7367 - accuracy: 0.7492 - val_loss: 0.9556 - val_accuracy: 0.7046\n",
      "Epoch 39/50\n",
      "946/946 [==============================] - 154s 162ms/step - loss: 0.7347 - accuracy: 0.7498 - val_loss: 0.9504 - val_accuracy: 0.7083\n",
      "Epoch 40/50\n",
      "946/946 [==============================] - 154s 162ms/step - loss: 0.7334 - accuracy: 0.7483 - val_loss: 0.9588 - val_accuracy: 0.7062\n",
      "Epoch 41/50\n",
      "946/946 [==============================] - 154s 162ms/step - loss: 0.7315 - accuracy: 0.7493 - val_loss: 0.9632 - val_accuracy: 0.7027\n",
      "Epoch 42/50\n",
      "946/946 [==============================] - 154s 162ms/step - loss: 0.7282 - accuracy: 0.7514 - val_loss: 0.9634 - val_accuracy: 0.7038\n",
      "Epoch 43/50\n",
      "946/946 [==============================] - 154s 162ms/step - loss: 0.7293 - accuracy: 0.7521 - val_loss: 0.9570 - val_accuracy: 0.7049\n",
      "Epoch 44/50\n",
      "946/946 [==============================] - 154s 162ms/step - loss: 0.7255 - accuracy: 0.7508 - val_loss: 0.9575 - val_accuracy: 0.7065\n",
      "Epoch 45/50\n",
      "946/946 [==============================] - 153s 162ms/step - loss: 0.7239 - accuracy: 0.7532 - val_loss: 0.9550 - val_accuracy: 0.7036\n",
      "Epoch 46/50\n",
      "946/946 [==============================] - 153s 162ms/step - loss: 0.7217 - accuracy: 0.7522 - val_loss: 0.9626 - val_accuracy: 0.7049\n",
      "Epoch 47/50\n",
      "946/946 [==============================] - 153s 162ms/step - loss: 0.7217 - accuracy: 0.7527 - val_loss: 0.9616 - val_accuracy: 0.7034\n",
      "Epoch 48/50\n",
      "946/946 [==============================] - 153s 162ms/step - loss: 0.7192 - accuracy: 0.7525 - val_loss: 0.9565 - val_accuracy: 0.7053\n",
      "Epoch 49/50\n",
      "946/946 [==============================] - 154s 162ms/step - loss: 0.7156 - accuracy: 0.7535 - val_loss: 0.9533 - val_accuracy: 0.7056\n",
      "Epoch 50/50\n",
      "946/946 [==============================] - 153s 162ms/step - loss: 0.7148 - accuracy: 0.7550 - val_loss: 0.9621 - val_accuracy: 0.7030\n"
     ]
    }
   ],
   "source": [
    "use_tpu = True\n",
    "if use_tpu:\n",
    "    # Create distribution strategy (TPU initialization)\n",
    "    tpu = tf.distribute.cluster_resolver.TPUClusterResolver()\n",
    "    tf.config.experimental_connect_to_cluster(tpu)\n",
    "    tf.tpu.experimental.initialize_tpu_system(tpu)\n",
    "    strategy = tf.distribute.experimental.TPUStrategy(tpu)\n",
    "    # Create model\n",
    "    with strategy.scope():\n",
    "        model = create_model()\n",
    "else:\n",
    "    model = create_model()"
   ]
  },
  {
   "cell_type": "code",
   "execution_count": 54,
   "metadata": {
    "colab": {
     "base_uri": "https://localhost:8080/",
     "height": 295
    },
    "id": "lAPx2vH9cb_u",
    "outputId": "083e16b4-9825-44c1-ea8e-3bd323ef8d4f"
   },
   "outputs": [
    {
     "data": {
      "image/png": "[encoded data removed]",
      "text/plain": [
       "<Figure size 432x288 with 1 Axes>"
      ]
     },
     "metadata": {
      "needs_background": "light"
     },
     "output_type": "display_data"
    }
   ],
   "source": [
    "from matplotlib import pyplot as plt\n",
    "# history = model1.fit(train_x, train_y,validation_split = 0.1, epochs=50, batch_size=4)\n",
    "plt.plot(model[0].history['accuracy'])\n",
    "plt.plot(model[0].history['val_accuracy'])\n",
    "plt.title('model accuracy')\n",
    "plt.ylabel('accuracy')\n",
    "plt.xlabel('epoch')\n",
    "plt.legend(['train', 'val'], loc='upper left')\n",
    "plt.show()"
   ]
  },
  {
   "cell_type": "code",
   "execution_count": 59,
   "metadata": {
    "colab": {
     "base_uri": "https://localhost:8080/"
    },
    "id": "XGKil82Tcj15",
    "outputId": "31fe7f6c-030b-4e29-f06e-15e35ef7100d"
   },
   "outputs": [
    {
     "name": "stdout",
     "output_type": "stream",
     "text": [
      "1013/1013 [==============================] - 42s 30ms/step - loss: 0.9858 - accuracy: 0.6942\n"
     ]
    }
   ],
   "source": [
    "test_y_language = to_categorical(data_test['gtts_language'])\n",
    "test_x = tokenizer(\n",
    "    text=data_test['Name'].to_list(),\n",
    "    add_special_tokens=True,\n",
    "    max_length=10,\n",
    "    truncation=True,\n",
    "    padding=True, \n",
    "    return_tensors='tf',\n",
    "    return_token_type_ids = False,\n",
    "    return_attention_mask = False,\n",
    "    verbose = True)\n",
    "# Run evaluation\n",
    "model_eval = model[1].evaluate(\n",
    "    x={'input_ids': test_x['input_ids']},\n",
    "    y={'gtts_language': test_y_language}\n",
    ")"
   ]
  },
  {
   "cell_type": "code",
   "execution_count": null,
   "metadata": {
    "id": "kwQdxkC4d3Vq"
   },
   "outputs": [],
   "source": [
    "# Saving the Model and weights as JSON and use latter for prediction\n",
    "load_model=model[1]\n",
    "Load_model = load_model.to_json()\n",
    "with open('/content/drive/My Drive/Lego2_model.json','w') as file:\n",
    "  file.write(Load_model)\n",
    "load_model.save_weights('/content/drive/My Drive/Lego2_weights.h5')\n",
    "with open('/content/drive/My Drive/Language_Code.json') as f:\n",
    "    Language_Input = json.loads(f.read())"
   ]
  },
  {
   "cell_type": "code",
   "execution_count": 96,
   "metadata": {
    "colab": {
     "base_uri": "https://localhost:8080/"
    },
    "id": "HTJcGyfldHok",
    "outputId": "e7848436-cc0c-4ebc-e234-aeb28bcb29b4"
   },
   "outputs": [
    {
     "name": "stdout",
     "output_type": "stream",
     "text": [
      "Saraswathi is Tamil\n"
     ]
    }
   ],
   "source": [
    "# Test Case and Validation\n",
    "text= 'Saraswathi'\n",
    "a = tokenizer.encode(\n",
    "    text= text,\n",
    "    add_special_tokens=True,\n",
    "    max_length=10,\n",
    "    truncation=True,\n",
    "    padding=True, \n",
    "    return_tensors='tf',\n",
    "    return_token_type_ids = False,\n",
    "    return_attention_mask = False,\n",
    "    verbose = True)\n",
    "a_as_vector = tf.reshape(a, [-1])\n",
    "#padding\n",
    "zero_padding = tf.zeros([1 * 10] - tf.shape(a_as_vector), dtype=a.dtype)\n",
    "a_reshape=tf.concat([a_as_vector, zero_padding],0)\n",
    "a_reshape=tf.reshape(a_reshape,[1,10])\n",
    "d=model[1].predict(a_reshape)\n",
    "c=np.argmax(d['gtts_language'])\n",
    "for key, info in Language_Input.items():\n",
    "    if(info['gtts_language'] == c):\n",
    "      lang=info['Language']\n",
    "      print(\"{} is {}\".format(text,lang ))"
   ]
  },
  {
   "cell_type": "code",
   "execution_count": 26,
   "metadata": {
    "colab": {
     "base_uri": "https://localhost:8080/",
     "height": 81,
     "referenced_widgets": [
      "3e1ebc67a3bc4c128b0b73c9e714a20b",
      "8e04a5dd74b54329ac9fd2cf7e0150f6",
      "c5059da76f144dd0b4223c58fba645ff",
      "510e032d24474a1bb1b7f29a54b531e0",
      "ef9d652fa834463b8ca306737921ce2e",
      "ccd9dd82627e49a288817cb49c9d476f",
      "9bdc336ae752422d8f2b4c02a3d5edb3",
      "09903251ec844943b88dc24e0375bf62",
      "8b43971f3bdf487fae4f9f3fc2a29255",
      "f8f553f7135c4b1388770eebf87f5efc",
      "3c4d735a4e1f4715b6ed4fc2e286deab",
      "2f44b292a50d41fd84f692dc9394662a",
      "69ea329f600647b1bcfaf79db5a9f704",
      "0d2f29920ba44d44928dcb659c33a6af",
      "21431fb67d904c719403050a7ae391b3",
      "8e3f88debb074442b1f116061199f8e9",
      "8168b7fc7f124044a6648af29649d6fb",
      "425d10716eee483cbda53caeb3175131",
      "d1282e83ded44711b396d9408b115385",
      "0b608336bce94c4495c80bb259f30c90",
      "bcd13fcb99d040d988e399dce8d9db66",
      "27dad189510a4d5eac59851a1ce62226"
     ]
    },
    "id": "kIruGkEMeCkP",
    "outputId": "00094d6d-6ecc-411a-92f6-feb8a8fcf1f2"
   },
   "outputs": [
    {
     "data": {
      "application/vnd.jupyter.widget-view+json": {
       "model_id": "3e1ebc67a3bc4c128b0b73c9e714a20b",
       "version_major": 2,
       "version_minor": 0
      },
      "text/plain": [
       "Downloading:   0%|          | 0.00/761 [00:00<?, ?B/s]"
      ]
     },
     "metadata": {},
     "output_type": "display_data"
    },
    {
     "data": {
      "application/vnd.jupyter.widget-view+json": {
       "model_id": "2f44b292a50d41fd84f692dc9394662a",
       "version_major": 2,
       "version_minor": 0
      },
      "text/plain": [
       "Downloading:   0%|          | 0.00/779k [00:00<?, ?B/s]"
      ]
     },
     "metadata": {},
     "output_type": "display_data"
    }
   ],
   "source": [
    "model_name = 'xlnet-large-cased'\n",
    "# Load transformers config and set output_hidden_states to False\n",
    "config = XLNetConfig.from_pretrained(model_name)\n",
    "config.output_hidden_states = False\n",
    "# Load xlnet tokenizer\n",
    "tokenizer = XLNetTokenizer.from_pretrained(pretrained_model_name_or_path = model_name, config = config)"
   ]
  },
  {
   "cell_type": "code",
   "execution_count": 82,
   "metadata": {
    "id": "STF9uBQy8WPM"
   },
   "outputs": [],
   "source": [
    "from tensorflow.keras.models import model_from_json\n",
    "json_file = open('/content/drive/My Drive/Lego2_model.json', 'r')\n",
    "loaded_model_json = json_file.read()\n",
    "json_file.close()\n",
    "loaded_model = model_from_json(loaded_model_json)\n",
    "loaded_model.load_weights(\"/content/drive/My Drive/Lego2_weights.h5\")\n",
    "with open('/content/drive/My Drive/Language_Code.json') as f:\n",
    "    Language_Input = json.loads(f.read())\n",
    " "
   ]
  },
  {
   "cell_type": "code",
   "execution_count": 95,
   "metadata": {
    "colab": {
     "base_uri": "https://localhost:8080/"
    },
    "id": "_OmGrs2q8SXc",
    "outputId": "d4e09ded-e736-4f09-d9e3-3ae52100af12"
   },
   "outputs": [
    {
     "name": "stdout",
     "output_type": "stream",
     "text": [
      "Brian Sawyer is English\n"
     ]
    }
   ],
   "source": [
    "#@title Name Language prediction\n",
    "Full_Name= \"Brian Sawyer\" #@param {type:\"string\"}\n",
    "Name = Full_Name.lower()\n",
    "Name = Name.strip()\n",
    "a = tokenizer.encode(\n",
    "    text= Name,\n",
    "    add_special_tokens=True,\n",
    "    max_length=10,\n",
    "    truncation=True,\n",
    "    padding=True, \n",
    "    return_tensors='tf',\n",
    "    return_token_type_ids = False,\n",
    "    return_attention_mask = False,\n",
    "    verbose = True)\n",
    "a_as_vector = tf.reshape(a, [-1])\n",
    "zero_padding = tf.zeros([1 * 10] - tf.shape(a_as_vector), dtype=a.dtype)\n",
    "a_reshape=tf.concat([a_as_vector, zero_padding],0)\n",
    "a_reshape=tf.reshape(a_reshape,[1,10])\n",
    "d=loaded_model.predict(a_reshape)\n",
    "c=np.argmax(d['gtts_language'])\n",
    "for key, info in Language_Input.items():\n",
    "    if(info['gtts_language'] == c):\n",
    "      lang=info['Language']\n",
    "      print(\"{} is {}\".format(Full_Name,lang ))"
   ]
  }
 ],
 "metadata": {
  "accelerator": "TPU",
  "colab": {
   "collapsed_sections": [],
   "name": "Lego_Tool.ipynb",
   "provenance": []
  },
  "kernelspec": {
   "display_name": "Python 3",
   "language": "python",
   "name": "python3"
  },
  "language_info": {
   "codemirror_mode": {
    "name": "ipython",
    "version": 3
   },
   "file_extension": ".py",
   "mimetype": "text/x-python",
   "name": "python",
   "nbconvert_exporter": "python",
   "pygments_lexer": "ipython3",
   "version": "3.7.7"
  },
  "widgets": {
   "application/vnd.jupyter.widget-state+json": {
    "0614716022fe4d32aee8d28f0897c255": {
     "model_module": "@jupyter-widgets/controls",
     "model_module_version": "1.5.0",
     "model_name": "DescriptionStyleModel",
     "state": {
      "_model_module": "@jupyter-widgets/controls",
      "_model_module_version": "1.5.0",
      "_model_name": "DescriptionStyleModel",
      "_view_count": null,
      "_view_module": "@jupyter-widgets/base",
      "_view_module_version": "1.2.0",
      "_view_name": "StyleView",
      "description_width": ""
     }
    },
    "09903251ec844943b88dc24e0375bf62": {
     "model_module": "@jupyter-widgets/base",
     "model_module_version": "1.2.0",
     "model_name": "LayoutModel",
     "state": {
      "_model_module": "@jupyter-widgets/base",
      "_model_module_version": "1.2.0",
      "_model_name": "LayoutModel",
      "_view_count": null,
      "_view_module": "@jupyter-widgets/base",
      "_view_module_version": "1.2.0",
      "_view_name": "LayoutView",
      "align_content": null,
      "align_items": null,
      "align_self": null,
      "border": null,
      "bottom": null,
      "display": null,
      "flex": null,
      "flex_flow": null,
      "grid_area": null,
      "grid_auto_columns": null,
      "grid_auto_flow": null,
      "grid_auto_rows": null,
      "grid_column": null,
      "grid_gap": null,
      "grid_row": null,
      "grid_template_areas": null,
      "grid_template_columns": null,
      "grid_template_rows": null,
      "height": null,
      "justify_content": null,
      "justify_items": null,
      "left": null,
      "margin": null,
      "max_height": null,
      "max_width": null,
      "min_height": null,
      "min_width": null,
      "object_fit": null,
      "object_position": null,
      "order": null,
      "overflow": null,
      "overflow_x": null,
      "overflow_y": null,
      "padding": null,
      "right": null,
      "top": null,
      "visibility": null,
      "width": null
     }
    },
    "0b608336bce94c4495c80bb259f30c90": {
     "model_module": "@jupyter-widgets/controls",
     "model_module_version": "1.5.0",
     "model_name": "ProgressStyleModel",
     "state": {
      "_model_module": "@jupyter-widgets/controls",
      "_model_module_version": "1.5.0",
      "_model_name": "ProgressStyleModel",
      "_view_count": null,
      "_view_module": "@jupyter-widgets/base",
      "_view_module_version": "1.2.0",
      "_view_name": "StyleView",
      "bar_color": null,
      "description_width": ""
     }
    },
    "0c33c8bbe1c34fa6bda5de126bc2d063": {
     "model_module": "@jupyter-widgets/controls",
     "model_module_version": "1.5.0",
     "model_name": "HTMLModel",
     "state": {
      "_dom_classes": [],
      "_model_module": "@jupyter-widgets/controls",
      "_model_module_version": "1.5.0",
      "_model_name": "HTMLModel",
      "_view_count": null,
      "_view_module": "@jupyter-widgets/controls",
      "_view_module_version": "1.5.0",
      "_view_name": "HTMLView",
      "description": "",
      "description_tooltip": null,
      "layout": "IPY_MODEL_7b68ad2d5d4445d5bdc60290234d5247",
      "placeholder": "​",
      "style": "IPY_MODEL_0614716022fe4d32aee8d28f0897c255",
      "value": "Downloading: 100%"
     }
    },
    "0d2f29920ba44d44928dcb659c33a6af": {
     "model_module": "@jupyter-widgets/controls",
     "model_module_version": "1.5.0",
     "model_name": "FloatProgressModel",
     "state": {
      "_dom_classes": [],
      "_model_module": "@jupyter-widgets/controls",
      "_model_module_version": "1.5.0",
      "_model_name": "FloatProgressModel",
      "_view_count": null,
      "_view_module": "@jupyter-widgets/controls",
      "_view_module_version": "1.5.0",
      "_view_name": "ProgressView",
      "bar_style": "success",
      "description": "",
      "description_tooltip": null,
      "layout": "IPY_MODEL_d1282e83ded44711b396d9408b115385",
      "max": 798011,
      "min": 0,
      "orientation": "horizontal",
      "style": "IPY_MODEL_0b608336bce94c4495c80bb259f30c90",
      "value": 798011
     }
    },
    "107d9fb64aee4cfc959466412b35b932": {
     "model_module": "@jupyter-widgets/base",
     "model_module_version": "1.2.0",
     "model_name": "LayoutModel",
     "state": {
      "_model_module": "@jupyter-widgets/base",
      "_model_module_version": "1.2.0",
      "_model_name": "LayoutModel",
      "_view_count": null,
      "_view_module": "@jupyter-widgets/base",
      "_view_module_version": "1.2.0",
      "_view_name": "LayoutView",
      "align_content": null,
      "align_items": null,
      "align_self": null,
      "border": null,
      "bottom": null,
      "display": null,
      "flex": null,
      "flex_flow": null,
      "grid_area": null,
      "grid_auto_columns": null,
      "grid_auto_flow": null,
      "grid_auto_rows": null,
      "grid_column": null,
      "grid_gap": null,
      "grid_row": null,
      "grid_template_areas": null,
      "grid_template_columns": null,
      "grid_template_rows": null,
      "height": null,
      "justify_content": null,
      "justify_items": null,
      "left": null,
      "margin": null,
      "max_height": null,
      "max_width": null,
      "min_height": null,
      "min_width": null,
      "object_fit": null,
      "object_position": null,
      "order": null,
      "overflow": null,
      "overflow_x": null,
      "overflow_y": null,
      "padding": null,
      "right": null,
      "top": null,
      "visibility": null,
      "width": null
     }
    },
    "1315ecb9ed0f4c96be2516124fe7fefe": {
     "model_module": "@jupyter-widgets/controls",
     "model_module_version": "1.5.0",
     "model_name": "HTMLModel",
     "state": {
      "_dom_classes": [],
      "_model_module": "@jupyter-widgets/controls",
      "_model_module_version": "1.5.0",
      "_model_name": "HTMLModel",
      "_view_count": null,
      "_view_module": "@jupyter-widgets/controls",
      "_view_module_version": "1.5.0",
      "_view_name": "HTMLView",
      "description": "",
      "description_tooltip": null,
      "layout": "IPY_MODEL_107d9fb64aee4cfc959466412b35b932",
      "placeholder": "​",
      "style": "IPY_MODEL_569ccb4fbcfa438f9942529c14790230",
      "value": " 761/761 [00:00&lt;00:00, 12.2kB/s]"
     }
    },
    "1d1b66a2b0fb4efb82472f26ba84acc3": {
     "model_module": "@jupyter-widgets/controls",
     "model_module_version": "1.5.0",
     "model_name": "HBoxModel",
     "state": {
      "_dom_classes": [],
      "_model_module": "@jupyter-widgets/controls",
      "_model_module_version": "1.5.0",
      "_model_name": "HBoxModel",
      "_view_count": null,
      "_view_module": "@jupyter-widgets/controls",
      "_view_module_version": "1.5.0",
      "_view_name": "HBoxView",
      "box_style": "",
      "children": [
       "IPY_MODEL_48be2267b97e424cb96baef1907e61d2",
       "IPY_MODEL_97dcd85214bd462e930f56349399e1ad",
       "IPY_MODEL_7b7621efb03a47a58db7b1ffb4b7080c"
      ],
      "layout": "IPY_MODEL_f7774c66bcef403489df9c814ece23d5"
     }
    },
    "21431fb67d904c719403050a7ae391b3": {
     "model_module": "@jupyter-widgets/controls",
     "model_module_version": "1.5.0",
     "model_name": "HTMLModel",
     "state": {
      "_dom_classes": [],
      "_model_module": "@jupyter-widgets/controls",
      "_model_module_version": "1.5.0",
      "_model_name": "HTMLModel",
      "_view_count": null,
      "_view_module": "@jupyter-widgets/controls",
      "_view_module_version": "1.5.0",
      "_view_name": "HTMLView",
      "description": "",
      "description_tooltip": null,
      "layout": "IPY_MODEL_bcd13fcb99d040d988e399dce8d9db66",
      "placeholder": "​",
      "style": "IPY_MODEL_27dad189510a4d5eac59851a1ce62226",
      "value": " 779k/779k [00:00&lt;00:00, 2.60MB/s]"
     }
    },
    "222dbb4df16f4ba5b5a823b207b0f97b": {
     "model_module": "@jupyter-widgets/controls",
     "model_module_version": "1.5.0",
     "model_name": "ProgressStyleModel",
     "state": {
      "_model_module": "@jupyter-widgets/controls",
      "_model_module_version": "1.5.0",
      "_model_name": "ProgressStyleModel",
      "_view_count": null,
      "_view_module": "@jupyter-widgets/base",
      "_view_module_version": "1.2.0",
      "_view_name": "StyleView",
      "bar_color": null,
      "description_width": ""
     }
    },
    "23bb1d43767345daad5862055497a655": {
     "model_module": "@jupyter-widgets/base",
     "model_module_version": "1.2.0",
     "model_name": "LayoutModel",
     "state": {
      "_model_module": "@jupyter-widgets/base",
      "_model_module_version": "1.2.0",
      "_model_name": "LayoutModel",
      "_view_count": null,
      "_view_module": "@jupyter-widgets/base",
      "_view_module_version": "1.2.0",
      "_view_name": "LayoutView",
      "align_content": null,
      "align_items": null,
      "align_self": null,
      "border": null,
      "bottom": null,
      "display": null,
      "flex": null,
      "flex_flow": null,
      "grid_area": null,
      "grid_auto_columns": null,
      "grid_auto_flow": null,
      "grid_auto_rows": null,
      "grid_column": null,
      "grid_gap": null,
      "grid_row": null,
      "grid_template_areas": null,
      "grid_template_columns": null,
      "grid_template_rows": null,
      "height": null,
      "justify_content": null,
      "justify_items": null,
      "left": null,
      "margin": null,
      "max_height": null,
      "max_width": null,
      "min_height": null,
      "min_width": null,
      "object_fit": null,
      "object_position": null,
      "order": null,
      "overflow": null,
      "overflow_x": null,
      "overflow_y": null,
      "padding": null,
      "right": null,
      "top": null,
      "visibility": null,
      "width": null
     }
    },
    "27dad189510a4d5eac59851a1ce62226": {
     "model_module": "@jupyter-widgets/controls",
     "model_module_version": "1.5.0",
     "model_name": "DescriptionStyleModel",
     "state": {
      "_model_module": "@jupyter-widgets/controls",
      "_model_module_version": "1.5.0",
      "_model_name": "DescriptionStyleModel",
      "_view_count": null,
      "_view_module": "@jupyter-widgets/base",
      "_view_module_version": "1.2.0",
      "_view_name": "StyleView",
      "description_width": ""
     }
    },
    "2a45019f29884092adcd5903486aa728": {
     "model_module": "@jupyter-widgets/base",
     "model_module_version": "1.2.0",
     "model_name": "LayoutModel",
     "state": {
      "_model_module": "@jupyter-widgets/base",
      "_model_module_version": "1.2.0",
      "_model_name": "LayoutModel",
      "_view_count": null,
      "_view_module": "@jupyter-widgets/base",
      "_view_module_version": "1.2.0",
      "_view_name": "LayoutView",
      "align_content": null,
      "align_items": null,
      "align_self": null,
      "border": null,
      "bottom": null,
      "display": null,
      "flex": null,
      "flex_flow": null,
      "grid_area": null,
      "grid_auto_columns": null,
      "grid_auto_flow": null,
      "grid_auto_rows": null,
      "grid_column": null,
      "grid_gap": null,
      "grid_row": null,
      "grid_template_areas": null,
      "grid_template_columns": null,
      "grid_template_rows": null,
      "height": null,
      "justify_content": null,
      "justify_items": null,
      "left": null,
      "margin": null,
      "max_height": null,
      "max_width": null,
      "min_height": null,
      "min_width": null,
      "object_fit": null,
      "object_position": null,
      "order": null,
      "overflow": null,
      "overflow_x": null,
      "overflow_y": null,
      "padding": null,
      "right": null,
      "top": null,
      "visibility": null,
      "width": null
     }
    },
    "2dd992e074cb4463ac9655f8458bdea8": {
     "model_module": "@jupyter-widgets/base",
     "model_module_version": "1.2.0",
     "model_name": "LayoutModel",
     "state": {
      "_model_module": "@jupyter-widgets/base",
      "_model_module_version": "1.2.0",
      "_model_name": "LayoutModel",
      "_view_count": null,
      "_view_module": "@jupyter-widgets/base",
      "_view_module_version": "1.2.0",
      "_view_name": "LayoutView",
      "align_content": null,
      "align_items": null,
      "align_self": null,
      "border": null,
      "bottom": null,
      "display": null,
      "flex": null,
      "flex_flow": null,
      "grid_area": null,
      "grid_auto_columns": null,
      "grid_auto_flow": null,
      "grid_auto_rows": null,
      "grid_column": null,
      "grid_gap": null,
      "grid_row": null,
      "grid_template_areas": null,
      "grid_template_columns": null,
      "grid_template_rows": null,
      "height": null,
      "justify_content": null,
      "justify_items": null,
      "left": null,
      "margin": null,
      "max_height": null,
      "max_width": null,
      "min_height": null,
      "min_width": null,
      "object_fit": null,
      "object_position": null,
      "order": null,
      "overflow": null,
      "overflow_x": null,
      "overflow_y": null,
      "padding": null,
      "right": null,
      "top": null,
      "visibility": null,
      "width": null
     }
    },
    "2f44b292a50d41fd84f692dc9394662a": {
     "model_module": "@jupyter-widgets/controls",
     "model_module_version": "1.5.0",
     "model_name": "HBoxModel",
     "state": {
      "_dom_classes": [],
      "_model_module": "@jupyter-widgets/controls",
      "_model_module_version": "1.5.0",
      "_model_name": "HBoxModel",
      "_view_count": null,
      "_view_module": "@jupyter-widgets/controls",
      "_view_module_version": "1.5.0",
      "_view_name": "HBoxView",
      "box_style": "",
      "children": [
       "IPY_MODEL_69ea329f600647b1bcfaf79db5a9f704",
       "IPY_MODEL_0d2f29920ba44d44928dcb659c33a6af",
       "IPY_MODEL_21431fb67d904c719403050a7ae391b3"
      ],
      "layout": "IPY_MODEL_8e3f88debb074442b1f116061199f8e9"
     }
    },
    "33459acded0549ec92c0d8463aa5c6ae": {
     "model_module": "@jupyter-widgets/base",
     "model_module_version": "1.2.0",
     "model_name": "LayoutModel",
     "state": {
      "_model_module": "@jupyter-widgets/base",
      "_model_module_version": "1.2.0",
      "_model_name": "LayoutModel",
      "_view_count": null,
      "_view_module": "@jupyter-widgets/base",
      "_view_module_version": "1.2.0",
      "_view_name": "LayoutView",
      "align_content": null,
      "align_items": null,
      "align_self": null,
      "border": null,
      "bottom": null,
      "display": null,
      "flex": null,
      "flex_flow": null,
      "grid_area": null,
      "grid_auto_columns": null,
      "grid_auto_flow": null,
      "grid_auto_rows": null,
      "grid_column": null,
      "grid_gap": null,
      "grid_row": null,
      "grid_template_areas": null,
      "grid_template_columns": null,
      "grid_template_rows": null,
      "height": null,
      "justify_content": null,
      "justify_items": null,
      "left": null,
      "margin": null,
      "max_height": null,
      "max_width": null,
      "min_height": null,
      "min_width": null,
      "object_fit": null,
      "object_position": null,
      "order": null,
      "overflow": null,
      "overflow_x": null,
      "overflow_y": null,
      "padding": null,
      "right": null,
      "top": null,
      "visibility": null,
      "width": null
     }
    },
    "3747634c672a46c1bfc2fdf59ccde5f6": {
     "model_module": "@jupyter-widgets/controls",
     "model_module_version": "1.5.0",
     "model_name": "HTMLModel",
     "state": {
      "_dom_classes": [],
      "_model_module": "@jupyter-widgets/controls",
      "_model_module_version": "1.5.0",
      "_model_name": "HTMLModel",
      "_view_count": null,
      "_view_module": "@jupyter-widgets/controls",
      "_view_module_version": "1.5.0",
      "_view_name": "HTMLView",
      "description": "",
      "description_tooltip": null,
      "layout": "IPY_MODEL_dbdabe11ee0f400ab8b9857cba31040b",
      "placeholder": "​",
      "style": "IPY_MODEL_9c2f1803b33d4c06810859fd60c5e376",
      "value": "Downloading: 100%"
     }
    },
    "3c4d735a4e1f4715b6ed4fc2e286deab": {
     "model_module": "@jupyter-widgets/controls",
     "model_module_version": "1.5.0",
     "model_name": "DescriptionStyleModel",
     "state": {
      "_model_module": "@jupyter-widgets/controls",
      "_model_module_version": "1.5.0",
      "_model_name": "DescriptionStyleModel",
      "_view_count": null,
      "_view_module": "@jupyter-widgets/base",
      "_view_module_version": "1.2.0",
      "_view_name": "StyleView",
      "description_width": ""
     }
    },
    "3e1ebc67a3bc4c128b0b73c9e714a20b": {
     "model_module": "@jupyter-widgets/controls",
     "model_module_version": "1.5.0",
     "model_name": "HBoxModel",
     "state": {
      "_dom_classes": [],
      "_model_module": "@jupyter-widgets/controls",
      "_model_module_version": "1.5.0",
      "_model_name": "HBoxModel",
      "_view_count": null,
      "_view_module": "@jupyter-widgets/controls",
      "_view_module_version": "1.5.0",
      "_view_name": "HBoxView",
      "box_style": "",
      "children": [
       "IPY_MODEL_8e04a5dd74b54329ac9fd2cf7e0150f6",
       "IPY_MODEL_c5059da76f144dd0b4223c58fba645ff",
       "IPY_MODEL_510e032d24474a1bb1b7f29a54b531e0"
      ],
      "layout": "IPY_MODEL_ef9d652fa834463b8ca306737921ce2e"
     }
    },
    "3f8d8ddf400b4bf2857e9c4ad8cb90e1": {
     "model_module": "@jupyter-widgets/controls",
     "model_module_version": "1.5.0",
     "model_name": "FloatProgressModel",
     "state": {
      "_dom_classes": [],
      "_model_module": "@jupyter-widgets/controls",
      "_model_module_version": "1.5.0",
      "_model_name": "FloatProgressModel",
      "_view_count": null,
      "_view_module": "@jupyter-widgets/controls",
      "_view_module_version": "1.5.0",
      "_view_name": "ProgressView",
      "bar_style": "success",
      "description": "",
      "description_tooltip": null,
      "layout": "IPY_MODEL_2dd992e074cb4463ac9655f8458bdea8",
      "max": 761,
      "min": 0,
      "orientation": "horizontal",
      "style": "IPY_MODEL_b0aaca5b511b4fd29ba6fa6c8a9e48fd",
      "value": 761
     }
    },
    "409d0f0316834d70a6d4ad135d053fb8": {
     "model_module": "@jupyter-widgets/controls",
     "model_module_version": "1.5.0",
     "model_name": "DescriptionStyleModel",
     "state": {
      "_model_module": "@jupyter-widgets/controls",
      "_model_module_version": "1.5.0",
      "_model_name": "DescriptionStyleModel",
      "_view_count": null,
      "_view_module": "@jupyter-widgets/base",
      "_view_module_version": "1.2.0",
      "_view_name": "StyleView",
      "description_width": ""
     }
    },
    "425d10716eee483cbda53caeb3175131": {
     "model_module": "@jupyter-widgets/controls",
     "model_module_version": "1.5.0",
     "model_name": "DescriptionStyleModel",
     "state": {
      "_model_module": "@jupyter-widgets/controls",
      "_model_module_version": "1.5.0",
      "_model_name": "DescriptionStyleModel",
      "_view_count": null,
      "_view_module": "@jupyter-widgets/base",
      "_view_module_version": "1.2.0",
      "_view_name": "StyleView",
      "description_width": ""
     }
    },
    "44c14d305bb14114be717ccb38fa8ab9": {
     "model_module": "@jupyter-widgets/controls",
     "model_module_version": "1.5.0",
     "model_name": "DescriptionStyleModel",
     "state": {
      "_model_module": "@jupyter-widgets/controls",
      "_model_module_version": "1.5.0",
      "_model_name": "DescriptionStyleModel",
      "_view_count": null,
      "_view_module": "@jupyter-widgets/base",
      "_view_module_version": "1.2.0",
      "_view_name": "StyleView",
      "description_width": ""
     }
    },
    "48be2267b97e424cb96baef1907e61d2": {
     "model_module": "@jupyter-widgets/controls",
     "model_module_version": "1.5.0",
     "model_name": "HTMLModel",
     "state": {
      "_dom_classes": [],
      "_model_module": "@jupyter-widgets/controls",
      "_model_module_version": "1.5.0",
      "_model_name": "HTMLModel",
      "_view_count": null,
      "_view_module": "@jupyter-widgets/controls",
      "_view_module_version": "1.5.0",
      "_view_name": "HTMLView",
      "description": "",
      "description_tooltip": null,
      "layout": "IPY_MODEL_23bb1d43767345daad5862055497a655",
      "placeholder": "​",
      "style": "IPY_MODEL_49c5662c66ed40b19b9d5570ca12abda",
      "value": "Downloading: 100%"
     }
    },
    "49c5662c66ed40b19b9d5570ca12abda": {
     "model_module": "@jupyter-widgets/controls",
     "model_module_version": "1.5.0",
     "model_name": "DescriptionStyleModel",
     "state": {
      "_model_module": "@jupyter-widgets/controls",
      "_model_module_version": "1.5.0",
      "_model_name": "DescriptionStyleModel",
      "_view_count": null,
      "_view_module": "@jupyter-widgets/base",
      "_view_module_version": "1.2.0",
      "_view_name": "StyleView",
      "description_width": ""
     }
    },
    "4f1385568e34444bb888269e1300388c": {
     "model_module": "@jupyter-widgets/controls",
     "model_module_version": "1.5.0",
     "model_name": "FloatProgressModel",
     "state": {
      "_dom_classes": [],
      "_model_module": "@jupyter-widgets/controls",
      "_model_module_version": "1.5.0",
      "_model_name": "FloatProgressModel",
      "_view_count": null,
      "_view_module": "@jupyter-widgets/controls",
      "_view_module_version": "1.5.0",
      "_view_name": "ProgressView",
      "bar_style": "success",
      "description": "",
      "description_tooltip": null,
      "layout": "IPY_MODEL_fb0914cb8b6945d195a53ea263446581",
      "max": 1382015,
      "min": 0,
      "orientation": "horizontal",
      "style": "IPY_MODEL_7fcf2d4f422b4324b9b0838224471e86",
      "value": 1382015
     }
    },
    "510e032d24474a1bb1b7f29a54b531e0": {
     "model_module": "@jupyter-widgets/controls",
     "model_module_version": "1.5.0",
     "model_name": "HTMLModel",
     "state": {
      "_dom_classes": [],
      "_model_module": "@jupyter-widgets/controls",
      "_model_module_version": "1.5.0",
      "_model_name": "HTMLModel",
      "_view_count": null,
      "_view_module": "@jupyter-widgets/controls",
      "_view_module_version": "1.5.0",
      "_view_name": "HTMLView",
      "description": "",
      "description_tooltip": null,
      "layout": "IPY_MODEL_f8f553f7135c4b1388770eebf87f5efc",
      "placeholder": "​",
      "style": "IPY_MODEL_3c4d735a4e1f4715b6ed4fc2e286deab",
      "value": " 761/761 [00:00&lt;00:00, 12.7kB/s]"
     }
    },
    "569ccb4fbcfa438f9942529c14790230": {
     "model_module": "@jupyter-widgets/controls",
     "model_module_version": "1.5.0",
     "model_name": "DescriptionStyleModel",
     "state": {
      "_model_module": "@jupyter-widgets/controls",
      "_model_module_version": "1.5.0",
      "_model_name": "DescriptionStyleModel",
      "_view_count": null,
      "_view_module": "@jupyter-widgets/base",
      "_view_module_version": "1.2.0",
      "_view_name": "StyleView",
      "description_width": ""
     }
    },
    "56cd29473f2b4698932dca377e55d0f3": {
     "model_module": "@jupyter-widgets/controls",
     "model_module_version": "1.5.0",
     "model_name": "HBoxModel",
     "state": {
      "_dom_classes": [],
      "_model_module": "@jupyter-widgets/controls",
      "_model_module_version": "1.5.0",
      "_model_name": "HBoxModel",
      "_view_count": null,
      "_view_module": "@jupyter-widgets/controls",
      "_view_module_version": "1.5.0",
      "_view_name": "HBoxView",
      "box_style": "",
      "children": [
       "IPY_MODEL_3747634c672a46c1bfc2fdf59ccde5f6",
       "IPY_MODEL_6124c001ae2744939469bab28aca22e2",
       "IPY_MODEL_f00f1fe676da4684bd9a146128a7f6e5"
      ],
      "layout": "IPY_MODEL_33459acded0549ec92c0d8463aa5c6ae"
     }
    },
    "6124c001ae2744939469bab28aca22e2": {
     "model_module": "@jupyter-widgets/controls",
     "model_module_version": "1.5.0",
     "model_name": "FloatProgressModel",
     "state": {
      "_dom_classes": [],
      "_model_module": "@jupyter-widgets/controls",
      "_model_module_version": "1.5.0",
      "_model_name": "FloatProgressModel",
      "_view_count": null,
      "_view_module": "@jupyter-widgets/controls",
      "_view_module_version": "1.5.0",
      "_view_name": "ProgressView",
      "bar_style": "success",
      "description": "",
      "description_tooltip": null,
      "layout": "IPY_MODEL_d0aff4574bbc480d8a0b9cb0ed39536f",
      "max": 798011,
      "min": 0,
      "orientation": "horizontal",
      "style": "IPY_MODEL_8acb02add57e42fab18ea40bcfbba679",
      "value": 798011
     }
    },
    "69ea329f600647b1bcfaf79db5a9f704": {
     "model_module": "@jupyter-widgets/controls",
     "model_module_version": "1.5.0",
     "model_name": "HTMLModel",
     "state": {
      "_dom_classes": [],
      "_model_module": "@jupyter-widgets/controls",
      "_model_module_version": "1.5.0",
      "_model_name": "HTMLModel",
      "_view_count": null,
      "_view_module": "@jupyter-widgets/controls",
      "_view_module_version": "1.5.0",
      "_view_name": "HTMLView",
      "description": "",
      "description_tooltip": null,
      "layout": "IPY_MODEL_8168b7fc7f124044a6648af29649d6fb",
      "placeholder": "​",
      "style": "IPY_MODEL_425d10716eee483cbda53caeb3175131",
      "value": "Downloading: 100%"
     }
    },
    "6ce3b197378e4698b922114c5f5d1ccf": {
     "model_module": "@jupyter-widgets/controls",
     "model_module_version": "1.5.0",
     "model_name": "DescriptionStyleModel",
     "state": {
      "_model_module": "@jupyter-widgets/controls",
      "_model_module_version": "1.5.0",
      "_model_name": "DescriptionStyleModel",
      "_view_count": null,
      "_view_module": "@jupyter-widgets/base",
      "_view_module_version": "1.2.0",
      "_view_name": "StyleView",
      "description_width": ""
     }
    },
    "74776eeaf2e14cf8a27d62ca45a2f505": {
     "model_module": "@jupyter-widgets/base",
     "model_module_version": "1.2.0",
     "model_name": "LayoutModel",
     "state": {
      "_model_module": "@jupyter-widgets/base",
      "_model_module_version": "1.2.0",
      "_model_name": "LayoutModel",
      "_view_count": null,
      "_view_module": "@jupyter-widgets/base",
      "_view_module_version": "1.2.0",
      "_view_name": "LayoutView",
      "align_content": null,
      "align_items": null,
      "align_self": null,
      "border": null,
      "bottom": null,
      "display": null,
      "flex": null,
      "flex_flow": null,
      "grid_area": null,
      "grid_auto_columns": null,
      "grid_auto_flow": null,
      "grid_auto_rows": null,
      "grid_column": null,
      "grid_gap": null,
      "grid_row": null,
      "grid_template_areas": null,
      "grid_template_columns": null,
      "grid_template_rows": null,
      "height": null,
      "justify_content": null,
      "justify_items": null,
      "left": null,
      "margin": null,
      "max_height": null,
      "max_width": null,
      "min_height": null,
      "min_width": null,
      "object_fit": null,
      "object_position": null,
      "order": null,
      "overflow": null,
      "overflow_x": null,
      "overflow_y": null,
      "padding": null,
      "right": null,
      "top": null,
      "visibility": null,
      "width": null
     }
    },
    "7b68ad2d5d4445d5bdc60290234d5247": {
     "model_module": "@jupyter-widgets/base",
     "model_module_version": "1.2.0",
     "model_name": "LayoutModel",
     "state": {
      "_model_module": "@jupyter-widgets/base",
      "_model_module_version": "1.2.0",
      "_model_name": "LayoutModel",
      "_view_count": null,
      "_view_module": "@jupyter-widgets/base",
      "_view_module_version": "1.2.0",
      "_view_name": "LayoutView",
      "align_content": null,
      "align_items": null,
      "align_self": null,
      "border": null,
      "bottom": null,
      "display": null,
      "flex": null,
      "flex_flow": null,
      "grid_area": null,
      "grid_auto_columns": null,
      "grid_auto_flow": null,
      "grid_auto_rows": null,
      "grid_column": null,
      "grid_gap": null,
      "grid_row": null,
      "grid_template_areas": null,
      "grid_template_columns": null,
      "grid_template_rows": null,
      "height": null,
      "justify_content": null,
      "justify_items": null,
      "left": null,
      "margin": null,
      "max_height": null,
      "max_width": null,
      "min_height": null,
      "min_width": null,
      "object_fit": null,
      "object_position": null,
      "order": null,
      "overflow": null,
      "overflow_x": null,
      "overflow_y": null,
      "padding": null,
      "right": null,
      "top": null,
      "visibility": null,
      "width": null
     }
    },
    "7b7621efb03a47a58db7b1ffb4b7080c": {
     "model_module": "@jupyter-widgets/controls",
     "model_module_version": "1.5.0",
     "model_name": "HTMLModel",
     "state": {
      "_dom_classes": [],
      "_model_module": "@jupyter-widgets/controls",
      "_model_module_version": "1.5.0",
      "_model_name": "HTMLModel",
      "_view_count": null,
      "_view_module": "@jupyter-widgets/controls",
      "_view_module_version": "1.5.0",
      "_view_name": "HTMLView",
      "description": "",
      "description_tooltip": null,
      "layout": "IPY_MODEL_b2fa458a43ba4047a5e35d49925f7386",
      "placeholder": "​",
      "style": "IPY_MODEL_6ce3b197378e4698b922114c5f5d1ccf",
      "value": " 1.46G/1.46G [00:40&lt;00:00, 38.0MB/s]"
     }
    },
    "7fcf2d4f422b4324b9b0838224471e86": {
     "model_module": "@jupyter-widgets/controls",
     "model_module_version": "1.5.0",
     "model_name": "ProgressStyleModel",
     "state": {
      "_model_module": "@jupyter-widgets/controls",
      "_model_module_version": "1.5.0",
      "_model_name": "ProgressStyleModel",
      "_view_count": null,
      "_view_module": "@jupyter-widgets/base",
      "_view_module_version": "1.2.0",
      "_view_name": "StyleView",
      "bar_color": null,
      "description_width": ""
     }
    },
    "8168b7fc7f124044a6648af29649d6fb": {
     "model_module": "@jupyter-widgets/base",
     "model_module_version": "1.2.0",
     "model_name": "LayoutModel",
     "state": {
      "_model_module": "@jupyter-widgets/base",
      "_model_module_version": "1.2.0",
      "_model_name": "LayoutModel",
      "_view_count": null,
      "_view_module": "@jupyter-widgets/base",
      "_view_module_version": "1.2.0",
      "_view_name": "LayoutView",
      "align_content": null,
      "align_items": null,
      "align_self": null,
      "border": null,
      "bottom": null,
      "display": null,
      "flex": null,
      "flex_flow": null,
      "grid_area": null,
      "grid_auto_columns": null,
      "grid_auto_flow": null,
      "grid_auto_rows": null,
      "grid_column": null,
      "grid_gap": null,
      "grid_row": null,
      "grid_template_areas": null,
      "grid_template_columns": null,
      "grid_template_rows": null,
      "height": null,
      "justify_content": null,
      "justify_items": null,
      "left": null,
      "margin": null,
      "max_height": null,
      "max_width": null,
      "min_height": null,
      "min_width": null,
      "object_fit": null,
      "object_position": null,
      "order": null,
      "overflow": null,
      "overflow_x": null,
      "overflow_y": null,
      "padding": null,
      "right": null,
      "top": null,
      "visibility": null,
      "width": null
     }
    },
    "8acb02add57e42fab18ea40bcfbba679": {
     "model_module": "@jupyter-widgets/controls",
     "model_module_version": "1.5.0",
     "model_name": "ProgressStyleModel",
     "state": {
      "_model_module": "@jupyter-widgets/controls",
      "_model_module_version": "1.5.0",
      "_model_name": "ProgressStyleModel",
      "_view_count": null,
      "_view_module": "@jupyter-widgets/base",
      "_view_module_version": "1.2.0",
      "_view_name": "StyleView",
      "bar_color": null,
      "description_width": ""
     }
    },
    "8b43971f3bdf487fae4f9f3fc2a29255": {
     "model_module": "@jupyter-widgets/controls",
     "model_module_version": "1.5.0",
     "model_name": "ProgressStyleModel",
     "state": {
      "_model_module": "@jupyter-widgets/controls",
      "_model_module_version": "1.5.0",
      "_model_name": "ProgressStyleModel",
      "_view_count": null,
      "_view_module": "@jupyter-widgets/base",
      "_view_module_version": "1.2.0",
      "_view_name": "StyleView",
      "bar_color": null,
      "description_width": ""
     }
    },
    "8e04a5dd74b54329ac9fd2cf7e0150f6": {
     "model_module": "@jupyter-widgets/controls",
     "model_module_version": "1.5.0",
     "model_name": "HTMLModel",
     "state": {
      "_dom_classes": [],
      "_model_module": "@jupyter-widgets/controls",
      "_model_module_version": "1.5.0",
      "_model_name": "HTMLModel",
      "_view_count": null,
      "_view_module": "@jupyter-widgets/controls",
      "_view_module_version": "1.5.0",
      "_view_name": "HTMLView",
      "description": "",
      "description_tooltip": null,
      "layout": "IPY_MODEL_ccd9dd82627e49a288817cb49c9d476f",
      "placeholder": "​",
      "style": "IPY_MODEL_9bdc336ae752422d8f2b4c02a3d5edb3",
      "value": "Downloading: 100%"
     }
    },
    "8e3f88debb074442b1f116061199f8e9": {
     "model_module": "@jupyter-widgets/base",
     "model_module_version": "1.2.0",
     "model_name": "LayoutModel",
     "state": {
      "_model_module": "@jupyter-widgets/base",
      "_model_module_version": "1.2.0",
      "_model_name": "LayoutModel",
      "_view_count": null,
      "_view_module": "@jupyter-widgets/base",
      "_view_module_version": "1.2.0",
      "_view_name": "LayoutView",
      "align_content": null,
      "align_items": null,
      "align_self": null,
      "border": null,
      "bottom": null,
      "display": null,
      "flex": null,
      "flex_flow": null,
      "grid_area": null,
      "grid_auto_columns": null,
      "grid_auto_flow": null,
      "grid_auto_rows": null,
      "grid_column": null,
      "grid_gap": null,
      "grid_row": null,
      "grid_template_areas": null,
      "grid_template_columns": null,
      "grid_template_rows": null,
      "height": null,
      "justify_content": null,
      "justify_items": null,
      "left": null,
      "margin": null,
      "max_height": null,
      "max_width": null,
      "min_height": null,
      "min_width": null,
      "object_fit": null,
      "object_position": null,
      "order": null,
      "overflow": null,
      "overflow_x": null,
      "overflow_y": null,
      "padding": null,
      "right": null,
      "top": null,
      "visibility": null,
      "width": null
     }
    },
    "90a73bc66f334abf804f87f9620d51ac": {
     "model_module": "@jupyter-widgets/base",
     "model_module_version": "1.2.0",
     "model_name": "LayoutModel",
     "state": {
      "_model_module": "@jupyter-widgets/base",
      "_model_module_version": "1.2.0",
      "_model_name": "LayoutModel",
      "_view_count": null,
      "_view_module": "@jupyter-widgets/base",
      "_view_module_version": "1.2.0",
      "_view_name": "LayoutView",
      "align_content": null,
      "align_items": null,
      "align_self": null,
      "border": null,
      "bottom": null,
      "display": null,
      "flex": null,
      "flex_flow": null,
      "grid_area": null,
      "grid_auto_columns": null,
      "grid_auto_flow": null,
      "grid_auto_rows": null,
      "grid_column": null,
      "grid_gap": null,
      "grid_row": null,
      "grid_template_areas": null,
      "grid_template_columns": null,
      "grid_template_rows": null,
      "height": null,
      "justify_content": null,
      "justify_items": null,
      "left": null,
      "margin": null,
      "max_height": null,
      "max_width": null,
      "min_height": null,
      "min_width": null,
      "object_fit": null,
      "object_position": null,
      "order": null,
      "overflow": null,
      "overflow_x": null,
      "overflow_y": null,
      "padding": null,
      "right": null,
      "top": null,
      "visibility": null,
      "width": null
     }
    },
    "944f5dc8e31c4baa923bd47a210c70cf": {
     "model_module": "@jupyter-widgets/controls",
     "model_module_version": "1.5.0",
     "model_name": "DescriptionStyleModel",
     "state": {
      "_model_module": "@jupyter-widgets/controls",
      "_model_module_version": "1.5.0",
      "_model_name": "DescriptionStyleModel",
      "_view_count": null,
      "_view_module": "@jupyter-widgets/base",
      "_view_module_version": "1.2.0",
      "_view_name": "StyleView",
      "description_width": ""
     }
    },
    "97dcd85214bd462e930f56349399e1ad": {
     "model_module": "@jupyter-widgets/controls",
     "model_module_version": "1.5.0",
     "model_name": "FloatProgressModel",
     "state": {
      "_dom_classes": [],
      "_model_module": "@jupyter-widgets/controls",
      "_model_module_version": "1.5.0",
      "_model_name": "FloatProgressModel",
      "_view_count": null,
      "_view_module": "@jupyter-widgets/controls",
      "_view_module_version": "1.5.0",
      "_view_name": "ProgressView",
      "bar_style": "success",
      "description": "",
      "description_tooltip": null,
      "layout": "IPY_MODEL_d25542414303485b81e6e3914fbca2a8",
      "max": 1572621064,
      "min": 0,
      "orientation": "horizontal",
      "style": "IPY_MODEL_222dbb4df16f4ba5b5a823b207b0f97b",
      "value": 1572621064
     }
    },
    "9bdc336ae752422d8f2b4c02a3d5edb3": {
     "model_module": "@jupyter-widgets/controls",
     "model_module_version": "1.5.0",
     "model_name": "DescriptionStyleModel",
     "state": {
      "_model_module": "@jupyter-widgets/controls",
      "_model_module_version": "1.5.0",
      "_model_name": "DescriptionStyleModel",
      "_view_count": null,
      "_view_module": "@jupyter-widgets/base",
      "_view_module_version": "1.2.0",
      "_view_name": "StyleView",
      "description_width": ""
     }
    },
    "9c2f1803b33d4c06810859fd60c5e376": {
     "model_module": "@jupyter-widgets/controls",
     "model_module_version": "1.5.0",
     "model_name": "DescriptionStyleModel",
     "state": {
      "_model_module": "@jupyter-widgets/controls",
      "_model_module_version": "1.5.0",
      "_model_name": "DescriptionStyleModel",
      "_view_count": null,
      "_view_module": "@jupyter-widgets/base",
      "_view_module_version": "1.2.0",
      "_view_name": "StyleView",
      "description_width": ""
     }
    },
    "9d52828a93af4fb08ca3438e2cc4db14": {
     "model_module": "@jupyter-widgets/base",
     "model_module_version": "1.2.0",
     "model_name": "LayoutModel",
     "state": {
      "_model_module": "@jupyter-widgets/base",
      "_model_module_version": "1.2.0",
      "_model_name": "LayoutModel",
      "_view_count": null,
      "_view_module": "@jupyter-widgets/base",
      "_view_module_version": "1.2.0",
      "_view_name": "LayoutView",
      "align_content": null,
      "align_items": null,
      "align_self": null,
      "border": null,
      "bottom": null,
      "display": null,
      "flex": null,
      "flex_flow": null,
      "grid_area": null,
      "grid_auto_columns": null,
      "grid_auto_flow": null,
      "grid_auto_rows": null,
      "grid_column": null,
      "grid_gap": null,
      "grid_row": null,
      "grid_template_areas": null,
      "grid_template_columns": null,
      "grid_template_rows": null,
      "height": null,
      "justify_content": null,
      "justify_items": null,
      "left": null,
      "margin": null,
      "max_height": null,
      "max_width": null,
      "min_height": null,
      "min_width": null,
      "object_fit": null,
      "object_position": null,
      "order": null,
      "overflow": null,
      "overflow_x": null,
      "overflow_y": null,
      "padding": null,
      "right": null,
      "top": null,
      "visibility": null,
      "width": null
     }
    },
    "a6720f9a762e4e66af98fe9b45d4471b": {
     "model_module": "@jupyter-widgets/controls",
     "model_module_version": "1.5.0",
     "model_name": "HTMLModel",
     "state": {
      "_dom_classes": [],
      "_model_module": "@jupyter-widgets/controls",
      "_model_module_version": "1.5.0",
      "_model_name": "HTMLModel",
      "_view_count": null,
      "_view_module": "@jupyter-widgets/controls",
      "_view_module_version": "1.5.0",
      "_view_name": "HTMLView",
      "description": "",
      "description_tooltip": null,
      "layout": "IPY_MODEL_90a73bc66f334abf804f87f9620d51ac",
      "placeholder": "​",
      "style": "IPY_MODEL_409d0f0316834d70a6d4ad135d053fb8",
      "value": "Downloading: 100%"
     }
    },
    "a7f97312be914df88c06eafe33147d27": {
     "model_module": "@jupyter-widgets/base",
     "model_module_version": "1.2.0",
     "model_name": "LayoutModel",
     "state": {
      "_model_module": "@jupyter-widgets/base",
      "_model_module_version": "1.2.0",
      "_model_name": "LayoutModel",
      "_view_count": null,
      "_view_module": "@jupyter-widgets/base",
      "_view_module_version": "1.2.0",
      "_view_name": "LayoutView",
      "align_content": null,
      "align_items": null,
      "align_self": null,
      "border": null,
      "bottom": null,
      "display": null,
      "flex": null,
      "flex_flow": null,
      "grid_area": null,
      "grid_auto_columns": null,
      "grid_auto_flow": null,
      "grid_auto_rows": null,
      "grid_column": null,
      "grid_gap": null,
      "grid_row": null,
      "grid_template_areas": null,
      "grid_template_columns": null,
      "grid_template_rows": null,
      "height": null,
      "justify_content": null,
      "justify_items": null,
      "left": null,
      "margin": null,
      "max_height": null,
      "max_width": null,
      "min_height": null,
      "min_width": null,
      "object_fit": null,
      "object_position": null,
      "order": null,
      "overflow": null,
      "overflow_x": null,
      "overflow_y": null,
      "padding": null,
      "right": null,
      "top": null,
      "visibility": null,
      "width": null
     }
    },
    "b0aaca5b511b4fd29ba6fa6c8a9e48fd": {
     "model_module": "@jupyter-widgets/controls",
     "model_module_version": "1.5.0",
     "model_name": "ProgressStyleModel",
     "state": {
      "_model_module": "@jupyter-widgets/controls",
      "_model_module_version": "1.5.0",
      "_model_name": "ProgressStyleModel",
      "_view_count": null,
      "_view_module": "@jupyter-widgets/base",
      "_view_module_version": "1.2.0",
      "_view_name": "StyleView",
      "bar_color": null,
      "description_width": ""
     }
    },
    "b2fa458a43ba4047a5e35d49925f7386": {
     "model_module": "@jupyter-widgets/base",
     "model_module_version": "1.2.0",
     "model_name": "LayoutModel",
     "state": {
      "_model_module": "@jupyter-widgets/base",
      "_model_module_version": "1.2.0",
      "_model_name": "LayoutModel",
      "_view_count": null,
      "_view_module": "@jupyter-widgets/base",
      "_view_module_version": "1.2.0",
      "_view_name": "LayoutView",
      "align_content": null,
      "align_items": null,
      "align_self": null,
      "border": null,
      "bottom": null,
      "display": null,
      "flex": null,
      "flex_flow": null,
      "grid_area": null,
      "grid_auto_columns": null,
      "grid_auto_flow": null,
      "grid_auto_rows": null,
      "grid_column": null,
      "grid_gap": null,
      "grid_row": null,
      "grid_template_areas": null,
      "grid_template_columns": null,
      "grid_template_rows": null,
      "height": null,
      "justify_content": null,
      "justify_items": null,
      "left": null,
      "margin": null,
      "max_height": null,
      "max_width": null,
      "min_height": null,
      "min_width": null,
      "object_fit": null,
      "object_position": null,
      "order": null,
      "overflow": null,
      "overflow_x": null,
      "overflow_y": null,
      "padding": null,
      "right": null,
      "top": null,
      "visibility": null,
      "width": null
     }
    },
    "bcd13fcb99d040d988e399dce8d9db66": {
     "model_module": "@jupyter-widgets/base",
     "model_module_version": "1.2.0",
     "model_name": "LayoutModel",
     "state": {
      "_model_module": "@jupyter-widgets/base",
      "_model_module_version": "1.2.0",
      "_model_name": "LayoutModel",
      "_view_count": null,
      "_view_module": "@jupyter-widgets/base",
      "_view_module_version": "1.2.0",
      "_view_name": "LayoutView",
      "align_content": null,
      "align_items": null,
      "align_self": null,
      "border": null,
      "bottom": null,
      "display": null,
      "flex": null,
      "flex_flow": null,
      "grid_area": null,
      "grid_auto_columns": null,
      "grid_auto_flow": null,
      "grid_auto_rows": null,
      "grid_column": null,
      "grid_gap": null,
      "grid_row": null,
      "grid_template_areas": null,
      "grid_template_columns": null,
      "grid_template_rows": null,
      "height": null,
      "justify_content": null,
      "justify_items": null,
      "left": null,
      "margin": null,
      "max_height": null,
      "max_width": null,
      "min_height": null,
      "min_width": null,
      "object_fit": null,
      "object_position": null,
      "order": null,
      "overflow": null,
      "overflow_x": null,
      "overflow_y": null,
      "padding": null,
      "right": null,
      "top": null,
      "visibility": null,
      "width": null
     }
    },
    "bd698ff2914f4fe9a5d528d9ba783db8": {
     "model_module": "@jupyter-widgets/controls",
     "model_module_version": "1.5.0",
     "model_name": "HBoxModel",
     "state": {
      "_dom_classes": [],
      "_model_module": "@jupyter-widgets/controls",
      "_model_module_version": "1.5.0",
      "_model_name": "HBoxModel",
      "_view_count": null,
      "_view_module": "@jupyter-widgets/controls",
      "_view_module_version": "1.5.0",
      "_view_name": "HBoxView",
      "box_style": "",
      "children": [
       "IPY_MODEL_a6720f9a762e4e66af98fe9b45d4471b",
       "IPY_MODEL_4f1385568e34444bb888269e1300388c",
       "IPY_MODEL_e0e59f43c8a54431bbf0c9065416691f"
      ],
      "layout": "IPY_MODEL_a7f97312be914df88c06eafe33147d27"
     }
    },
    "c5059da76f144dd0b4223c58fba645ff": {
     "model_module": "@jupyter-widgets/controls",
     "model_module_version": "1.5.0",
     "model_name": "FloatProgressModel",
     "state": {
      "_dom_classes": [],
      "_model_module": "@jupyter-widgets/controls",
      "_model_module_version": "1.5.0",
      "_model_name": "FloatProgressModel",
      "_view_count": null,
      "_view_module": "@jupyter-widgets/controls",
      "_view_module_version": "1.5.0",
      "_view_name": "ProgressView",
      "bar_style": "success",
      "description": "",
      "description_tooltip": null,
      "layout": "IPY_MODEL_09903251ec844943b88dc24e0375bf62",
      "max": 761,
      "min": 0,
      "orientation": "horizontal",
      "style": "IPY_MODEL_8b43971f3bdf487fae4f9f3fc2a29255",
      "value": 761
     }
    },
    "ccd9dd82627e49a288817cb49c9d476f": {
     "model_module": "@jupyter-widgets/base",
     "model_module_version": "1.2.0",
     "model_name": "LayoutModel",
     "state": {
      "_model_module": "@jupyter-widgets/base",
      "_model_module_version": "1.2.0",
      "_model_name": "LayoutModel",
      "_view_count": null,
      "_view_module": "@jupyter-widgets/base",
      "_view_module_version": "1.2.0",
      "_view_name": "LayoutView",
      "align_content": null,
      "align_items": null,
      "align_self": null,
      "border": null,
      "bottom": null,
      "display": null,
      "flex": null,
      "flex_flow": null,
      "grid_area": null,
      "grid_auto_columns": null,
      "grid_auto_flow": null,
      "grid_auto_rows": null,
      "grid_column": null,
      "grid_gap": null,
      "grid_row": null,
      "grid_template_areas": null,
      "grid_template_columns": null,
      "grid_template_rows": null,
      "height": null,
      "justify_content": null,
      "justify_items": null,
      "left": null,
      "margin": null,
      "max_height": null,
      "max_width": null,
      "min_height": null,
      "min_width": null,
      "object_fit": null,
      "object_position": null,
      "order": null,
      "overflow": null,
      "overflow_x": null,
      "overflow_y": null,
      "padding": null,
      "right": null,
      "top": null,
      "visibility": null,
      "width": null
     }
    },
    "d0aff4574bbc480d8a0b9cb0ed39536f": {
     "model_module": "@jupyter-widgets/base",
     "model_module_version": "1.2.0",
     "model_name": "LayoutModel",
     "state": {
      "_model_module": "@jupyter-widgets/base",
      "_model_module_version": "1.2.0",
      "_model_name": "LayoutModel",
      "_view_count": null,
      "_view_module": "@jupyter-widgets/base",
      "_view_module_version": "1.2.0",
      "_view_name": "LayoutView",
      "align_content": null,
      "align_items": null,
      "align_self": null,
      "border": null,
      "bottom": null,
      "display": null,
      "flex": null,
      "flex_flow": null,
      "grid_area": null,
      "grid_auto_columns": null,
      "grid_auto_flow": null,
      "grid_auto_rows": null,
      "grid_column": null,
      "grid_gap": null,
      "grid_row": null,
      "grid_template_areas": null,
      "grid_template_columns": null,
      "grid_template_rows": null,
      "height": null,
      "justify_content": null,
      "justify_items": null,
      "left": null,
      "margin": null,
      "max_height": null,
      "max_width": null,
      "min_height": null,
      "min_width": null,
      "object_fit": null,
      "object_position": null,
      "order": null,
      "overflow": null,
      "overflow_x": null,
      "overflow_y": null,
      "padding": null,
      "right": null,
      "top": null,
      "visibility": null,
      "width": null
     }
    },
    "d1282e83ded44711b396d9408b115385": {
     "model_module": "@jupyter-widgets/base",
     "model_module_version": "1.2.0",
     "model_name": "LayoutModel",
     "state": {
      "_model_module": "@jupyter-widgets/base",
      "_model_module_version": "1.2.0",
      "_model_name": "LayoutModel",
      "_view_count": null,
      "_view_module": "@jupyter-widgets/base",
      "_view_module_version": "1.2.0",
      "_view_name": "LayoutView",
      "align_content": null,
      "align_items": null,
      "align_self": null,
      "border": null,
      "bottom": null,
      "display": null,
      "flex": null,
      "flex_flow": null,
      "grid_area": null,
      "grid_auto_columns": null,
      "grid_auto_flow": null,
      "grid_auto_rows": null,
      "grid_column": null,
      "grid_gap": null,
      "grid_row": null,
      "grid_template_areas": null,
      "grid_template_columns": null,
      "grid_template_rows": null,
      "height": null,
      "justify_content": null,
      "justify_items": null,
      "left": null,
      "margin": null,
      "max_height": null,
      "max_width": null,
      "min_height": null,
      "min_width": null,
      "object_fit": null,
      "object_position": null,
      "order": null,
      "overflow": null,
      "overflow_x": null,
      "overflow_y": null,
      "padding": null,
      "right": null,
      "top": null,
      "visibility": null,
      "width": null
     }
    },
    "d25542414303485b81e6e3914fbca2a8": {
     "model_module": "@jupyter-widgets/base",
     "model_module_version": "1.2.0",
     "model_name": "LayoutModel",
     "state": {
      "_model_module": "@jupyter-widgets/base",
      "_model_module_version": "1.2.0",
      "_model_name": "LayoutModel",
      "_view_count": null,
      "_view_module": "@jupyter-widgets/base",
      "_view_module_version": "1.2.0",
      "_view_name": "LayoutView",
      "align_content": null,
      "align_items": null,
      "align_self": null,
      "border": null,
      "bottom": null,
      "display": null,
      "flex": null,
      "flex_flow": null,
      "grid_area": null,
      "grid_auto_columns": null,
      "grid_auto_flow": null,
      "grid_auto_rows": null,
      "grid_column": null,
      "grid_gap": null,
      "grid_row": null,
      "grid_template_areas": null,
      "grid_template_columns": null,
      "grid_template_rows": null,
      "height": null,
      "justify_content": null,
      "justify_items": null,
      "left": null,
      "margin": null,
      "max_height": null,
      "max_width": null,
      "min_height": null,
      "min_width": null,
      "object_fit": null,
      "object_position": null,
      "order": null,
      "overflow": null,
      "overflow_x": null,
      "overflow_y": null,
      "padding": null,
      "right": null,
      "top": null,
      "visibility": null,
      "width": null
     }
    },
    "dbdabe11ee0f400ab8b9857cba31040b": {
     "model_module": "@jupyter-widgets/base",
     "model_module_version": "1.2.0",
     "model_name": "LayoutModel",
     "state": {
      "_model_module": "@jupyter-widgets/base",
      "_model_module_version": "1.2.0",
      "_model_name": "LayoutModel",
      "_view_count": null,
      "_view_module": "@jupyter-widgets/base",
      "_view_module_version": "1.2.0",
      "_view_name": "LayoutView",
      "align_content": null,
      "align_items": null,
      "align_self": null,
      "border": null,
      "bottom": null,
      "display": null,
      "flex": null,
      "flex_flow": null,
      "grid_area": null,
      "grid_auto_columns": null,
      "grid_auto_flow": null,
      "grid_auto_rows": null,
      "grid_column": null,
      "grid_gap": null,
      "grid_row": null,
      "grid_template_areas": null,
      "grid_template_columns": null,
      "grid_template_rows": null,
      "height": null,
      "justify_content": null,
      "justify_items": null,
      "left": null,
      "margin": null,
      "max_height": null,
      "max_width": null,
      "min_height": null,
      "min_width": null,
      "object_fit": null,
      "object_position": null,
      "order": null,
      "overflow": null,
      "overflow_x": null,
      "overflow_y": null,
      "padding": null,
      "right": null,
      "top": null,
      "visibility": null,
      "width": null
     }
    },
    "e0e59f43c8a54431bbf0c9065416691f": {
     "model_module": "@jupyter-widgets/controls",
     "model_module_version": "1.5.0",
     "model_name": "HTMLModel",
     "state": {
      "_dom_classes": [],
      "_model_module": "@jupyter-widgets/controls",
      "_model_module_version": "1.5.0",
      "_model_name": "HTMLModel",
      "_view_count": null,
      "_view_module": "@jupyter-widgets/controls",
      "_view_module_version": "1.5.0",
      "_view_name": "HTMLView",
      "description": "",
      "description_tooltip": null,
      "layout": "IPY_MODEL_9d52828a93af4fb08ca3438e2cc4db14",
      "placeholder": "​",
      "style": "IPY_MODEL_944f5dc8e31c4baa923bd47a210c70cf",
      "value": " 1.32M/1.32M [00:00&lt;00:00, 1.19MB/s]"
     }
    },
    "ef9d652fa834463b8ca306737921ce2e": {
     "model_module": "@jupyter-widgets/base",
     "model_module_version": "1.2.0",
     "model_name": "LayoutModel",
     "state": {
      "_model_module": "@jupyter-widgets/base",
      "_model_module_version": "1.2.0",
      "_model_name": "LayoutModel",
      "_view_count": null,
      "_view_module": "@jupyter-widgets/base",
      "_view_module_version": "1.2.0",
      "_view_name": "LayoutView",
      "align_content": null,
      "align_items": null,
      "align_self": null,
      "border": null,
      "bottom": null,
      "display": null,
      "flex": null,
      "flex_flow": null,
      "grid_area": null,
      "grid_auto_columns": null,
      "grid_auto_flow": null,
      "grid_auto_rows": null,
      "grid_column": null,
      "grid_gap": null,
      "grid_row": null,
      "grid_template_areas": null,
      "grid_template_columns": null,
      "grid_template_rows": null,
      "height": null,
      "justify_content": null,
      "justify_items": null,
      "left": null,
      "margin": null,
      "max_height": null,
      "max_width": null,
      "min_height": null,
      "min_width": null,
      "object_fit": null,
      "object_position": null,
      "order": null,
      "overflow": null,
      "overflow_x": null,
      "overflow_y": null,
      "padding": null,
      "right": null,
      "top": null,
      "visibility": null,
      "width": null
     }
    },
    "f00f1fe676da4684bd9a146128a7f6e5": {
     "model_module": "@jupyter-widgets/controls",
     "model_module_version": "1.5.0",
     "model_name": "HTMLModel",
     "state": {
      "_dom_classes": [],
      "_model_module": "@jupyter-widgets/controls",
      "_model_module_version": "1.5.0",
      "_model_name": "HTMLModel",
      "_view_count": null,
      "_view_module": "@jupyter-widgets/controls",
      "_view_module_version": "1.5.0",
      "_view_name": "HTMLView",
      "description": "",
      "description_tooltip": null,
      "layout": "IPY_MODEL_74776eeaf2e14cf8a27d62ca45a2f505",
      "placeholder": "​",
      "style": "IPY_MODEL_44c14d305bb14114be717ccb38fa8ab9",
      "value": " 779k/779k [00:00&lt;00:00, 1.25MB/s]"
     }
    },
    "f649973309274c05a42c26f490f475c2": {
     "model_module": "@jupyter-widgets/controls",
     "model_module_version": "1.5.0",
     "model_name": "HBoxModel",
     "state": {
      "_dom_classes": [],
      "_model_module": "@jupyter-widgets/controls",
      "_model_module_version": "1.5.0",
      "_model_name": "HBoxModel",
      "_view_count": null,
      "_view_module": "@jupyter-widgets/controls",
      "_view_module_version": "1.5.0",
      "_view_name": "HBoxView",
      "box_style": "",
      "children": [
       "IPY_MODEL_0c33c8bbe1c34fa6bda5de126bc2d063",
       "IPY_MODEL_3f8d8ddf400b4bf2857e9c4ad8cb90e1",
       "IPY_MODEL_1315ecb9ed0f4c96be2516124fe7fefe"
      ],
      "layout": "IPY_MODEL_2a45019f29884092adcd5903486aa728"
     }
    },
    "f7774c66bcef403489df9c814ece23d5": {
     "model_module": "@jupyter-widgets/base",
     "model_module_version": "1.2.0",
     "model_name": "LayoutModel",
     "state": {
      "_model_module": "@jupyter-widgets/base",
      "_model_module_version": "1.2.0",
      "_model_name": "LayoutModel",
      "_view_count": null,
      "_view_module": "@jupyter-widgets/base",
      "_view_module_version": "1.2.0",
      "_view_name": "LayoutView",
      "align_content": null,
      "align_items": null,
      "align_self": null,
      "border": null,
      "bottom": null,
      "display": null,
      "flex": null,
      "flex_flow": null,
      "grid_area": null,
      "grid_auto_columns": null,
      "grid_auto_flow": null,
      "grid_auto_rows": null,
      "grid_column": null,
      "grid_gap": null,
      "grid_row": null,
      "grid_template_areas": null,
      "grid_template_columns": null,
      "grid_template_rows": null,
      "height": null,
      "justify_content": null,
      "justify_items": null,
      "left": null,
      "margin": null,
      "max_height": null,
      "max_width": null,
      "min_height": null,
      "min_width": null,
      "object_fit": null,
      "object_position": null,
      "order": null,
      "overflow": null,
      "overflow_x": null,
      "overflow_y": null,
      "padding": null,
      "right": null,
      "top": null,
      "visibility": null,
      "width": null
     }
    },
    "f8f553f7135c4b1388770eebf87f5efc": {
     "model_module": "@jupyter-widgets/base",
     "model_module_version": "1.2.0",
     "model_name": "LayoutModel",
     "state": {
      "_model_module": "@jupyter-widgets/base",
      "_model_module_version": "1.2.0",
      "_model_name": "LayoutModel",
      "_view_count": null,
      "_view_module": "@jupyter-widgets/base",
      "_view_module_version": "1.2.0",
      "_view_name": "LayoutView",
      "align_content": null,
      "align_items": null,
      "align_self": null,
      "border": null,
      "bottom": null,
      "display": null,
      "flex": null,
      "flex_flow": null,
      "grid_area": null,
      "grid_auto_columns": null,
      "grid_auto_flow": null,
      "grid_auto_rows": null,
      "grid_column": null,
      "grid_gap": null,
      "grid_row": null,
      "grid_template_areas": null,
      "grid_template_columns": null,
      "grid_template_rows": null,
      "height": null,
      "justify_content": null,
      "justify_items": null,
      "left": null,
      "margin": null,
      "max_height": null,
      "max_width": null,
      "min_height": null,
      "min_width": null,
      "object_fit": null,
      "object_position": null,
      "order": null,
      "overflow": null,
      "overflow_x": null,
      "overflow_y": null,
      "padding": null,
      "right": null,
      "top": null,
      "visibility": null,
      "width": null
     }
    },
    "fb0914cb8b6945d195a53ea263446581": {
     "model_module": "@jupyter-widgets/base",
     "model_module_version": "1.2.0",
     "model_name": "LayoutModel",
     "state": {
      "_model_module": "@jupyter-widgets/base",
      "_model_module_version": "1.2.0",
      "_model_name": "LayoutModel",
      "_view_count": null,
      "_view_module": "@jupyter-widgets/base",
      "_view_module_version": "1.2.0",
      "_view_name": "LayoutView",
      "align_content": null,
      "align_items": null,
      "align_self": null,
      "border": null,
      "bottom": null,
      "display": null,
      "flex": null,
      "flex_flow": null,
      "grid_area": null,
      "grid_auto_columns": null,
      "grid_auto_flow": null,
      "grid_auto_rows": null,
      "grid_column": null,
      "grid_gap": null,
      "grid_row": null,
      "grid_template_areas": null,
      "grid_template_columns": null,
      "grid_template_rows": null,
      "height": null,
      "justify_content": null,
      "justify_items": null,
      "left": null,
      "margin": null,
      "max_height": null,
      "max_width": null,
      "min_height": null,
      "min_width": null,
      "object_fit": null,
      "object_position": null,
      "order": null,
      "overflow": null,
      "overflow_x": null,
      "overflow_y": null,
      "padding": null,
      "right": null,
      "top": null,
      "visibility": null,
      "width": null
     }
    }
   }
  }
 },
 "nbformat": 4,
 "nbformat_minor": 4
}
